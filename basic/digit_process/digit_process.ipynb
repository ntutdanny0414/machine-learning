{
 "cells": [
  {
   "cell_type": "code",
   "execution_count": 1,
   "metadata": {},
   "outputs": [],
   "source": [
    "import numpy as np\n",
    "import matplotlib.pyplot as plt\n",
    "from scipy import signal"
   ]
  },
  {
   "cell_type": "code",
   "execution_count": 5,
   "metadata": {},
   "outputs": [],
   "source": [
    "img = np.load(\"digit8.npy\")\n",
    "edge = [\n",
    "    [0, 1, 0],\n",
    "    [1,-4, 1],\n",
    "    [0, 1, 0]\n",
    "    ]\n",
    "sharpen = [\n",
    "    [0, -1, 0],\n",
    "    [-1, 5, -1],\n",
    "    [0, -1, 0]\n",
    "    ]"
   ]
  },
  {
   "cell_type": "code",
   "execution_count": 3,
   "metadata": {},
   "outputs": [
    {
     "data": {
      "text/plain": [
       "Text(0.5,1,'original image')"
      ]
     },
     "execution_count": 3,
     "metadata": {},
     "output_type": "execute_result"
    },
    {
     "data": {
      "image/png": "[encoded data removed]",
      "text/plain": [
       "<Figure size 432x288 with 1 Axes>"
      ]
     },
     "metadata": {},
     "output_type": "display_data"
    }
   ],
   "source": [
    "plt.figure()\n",
    "plt.subplot(1, 2, 1)\n",
    "plt.imshow(img, cmap=\"gray\")\n",
    "plt.axis(\"off\")\n",
    "plt.title(\"original image\")"
   ]
  },
  {
   "cell_type": "code",
   "execution_count": 6,
   "metadata": {},
   "outputs": [
    {
     "data": {
      "image/png": "[encoded data removed]",
      "text/plain": [
       "<Figure size 432x288 with 1 Axes>"
      ]
     },
     "metadata": {},
     "output_type": "display_data"
    }
   ],
   "source": [
    "c_digit = signal.convolve2d(img, edge, boundary=\"symm\", mode=\"same\")\n",
    "plt.imshow(c_digit, cmap=\"gray\")\n",
    "plt.axis(\"off\")\n",
    "plt.title(\"edge-detection image\")\n",
    "plt.show()  "
   ]
  },
  {
   "cell_type": "code",
   "execution_count": 7,
   "metadata": {},
   "outputs": [
    {
     "data": {
      "image/png": "[encoded data removed]",
      "text/plain": [
       "<Figure size 432x288 with 1 Axes>"
      ]
     },
     "metadata": {},
     "output_type": "display_data"
    }
   ],
   "source": [
    "c_digit = signal.convolve2d(img, sharpen, boundary=\"symm\", mode=\"same\")\n",
    "plt.imshow(c_digit, cmap=\"gray\")\n",
    "plt.axis(\"off\")\n",
    "plt.title(\"sharpen image\")\n",
    "plt.show()    "
   ]
  },
  {
   "cell_type": "code",
   "execution_count": 8,
   "metadata": {},
   "outputs": [],
   "source": [
    "img = np.load(\"digit3.npy\")\n",
    "filters = [[\n",
    "    [-1, -1, -1],\n",
    "    [ 1,  1,  1],\n",
    "    [ 0,  0,  0]],\n",
    "   [[-1,  1,  0],\n",
    "    [-1,  1,  0],\n",
    "    [-1,  1,  0]],\n",
    "   [[ 0,  0,  0],\n",
    "    [ 1,  1,  1],\n",
    "    [-1, -1, -1]],\n",
    "   [[ 0,  1, -1],\n",
    "    [ 0,  1, -1],\n",
    "    [ 0,  1, -1]]]"
   ]
  },
  {
   "cell_type": "code",
   "execution_count": 9,
   "metadata": {},
   "outputs": [
    {
     "data": {
      "image/png": "[encoded data removed]",
      "text/plain": [
       "<Figure size 432x288 with 5 Axes>"
      ]
     },
     "metadata": {},
     "output_type": "display_data"
    }
   ],
   "source": [
    "plt.figure()\n",
    "plt.subplot(1, 5, 1)\n",
    "plt.imshow(img, cmap=\"gray\")\n",
    "plt.axis(\"off\")\n",
    "plt.title(\"original\")\n",
    "\n",
    "for i in range(2, 6):\n",
    "    plt.subplot(1, 5, i)\n",
    "    c = signal.convolve2d(img, filters[i-2], boundary=\"symm\", mode=\"same\")\n",
    "    plt.imshow(c, cmap=\"gray\")\n",
    "    plt.axis(\"off\")\n",
    "    plt.title(\"filter\"+str(i-1))   \n",
    "\n",
    "plt.show()"
   ]
  }
 ],
 "metadata": {
  "kernelspec": {
   "display_name": "tensorflow",
   "language": "python",
   "name": "tf"
  },
  "language_info": {
   "codemirror_mode": {
    "name": "ipython",
    "version": 3
   },
   "file_extension": ".py",
   "mimetype": "text/x-python",
   "name": "python",
   "nbconvert_exporter": "python",
   "pygments_lexer": "ipython3",
   "version": "3.5.5"
  }
 },
 "nbformat": 4,
 "nbformat_minor": 2
}
