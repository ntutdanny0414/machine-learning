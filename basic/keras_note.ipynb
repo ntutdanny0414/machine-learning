{
 "cells": [
  {
   "cell_type": "code",
   "execution_count": null,
   "metadata": {},
   "outputs": [],
   "source": [
    "'''\n",
    "optimizers.SGD(lr=0.05,decay=1e-6, momentum=.09)\n",
    "optimizers.Adam(lr=0.001,decay=1e-6)\n",
    "optimizers.RMSprop(lr=0.001,decay=1e-6)\n",
    "'''"
   ]
  },
  {
   "cell_type": "code",
   "execution_count": null,
   "metadata": {},
   "outputs": [],
   "source": [
    "'''\n",
    "from tensorflow.keras.callbacks import Callback\n",
    "# 繼承 Callback 類別建立 fitHistory 類別\n",
    "class fitHistory(Callback):\n",
    "    def on_train_begin(self, logs={}):\n",
    "        self.acc = []\n",
    "        self.losses = []\n",
    "\n",
    "    def on_batch_end(self, batch, logs={}):\n",
    "        self.acc.append(logs.get(\"accuracy\"))\n",
    "        self.losses.append(logs.get('loss'))\n",
    "# 建立 fitHistory 物件\n",
    "history = fitHistory()\n",
    "model.fit(X, Y, batch_size=64, epochs=5, verbose=0,\n",
    "          callbacks=[history])\n",
    "'''"
   ]
  },
  {
   "cell_type": "code",
   "execution_count": null,
   "metadata": {},
   "outputs": [],
   "source": [
    "'''\n",
    "from tensorflow.keras.callbacks import EarlyStopping\n",
    "# 建立 EarlyStopping 物件\n",
    "es = EarlyStopping(monitor=\"val_loss\", mode=\"min\",\n",
    "                   verbose=1)\n",
    "\n",
    "from tensorflow.keras.callbacks import EarlyStopping\n",
    "# 建立 EarlyStopping 物件\n",
    "es = EarlyStopping(monitor=\"val_loss\", mode=\"min\",\n",
    "                   verbose=1, patience=5)\n",
    "                   \n",
    "\n",
    "'''"
   ]
  },
  {
   "cell_type": "code",
   "execution_count": null,
   "metadata": {},
   "outputs": [],
   "source": [
    "'''\n",
    "from tensorflow.keras.callbacks import ModelCheckpoint\n",
    "# 建立 ModelCheckpoint 物件\n",
    "mc = ModelCheckpoint(\"best_model.h5\", monitor=\"val_accuracy\", \n",
    "                     mode=\"max\", verbose=1,\n",
    "                     save_best_only=True)\n",
    "                     \n",
    "from tensorflow.keras.callbacks import ModelCheckpoint\n",
    "# 建立 ModelCheckpoint 物件\n",
    "filename = \"weights-{epoch:02d}-{val_accuracy:.2f}.h5\"\n",
    "mc = ModelCheckpoint(filename, monitor=\"val_accuracy\", \n",
    "                     mode=\"max\", verbose=1,\n",
    "                     save_best_only=True)\n",
    "                     \n",
    "        \n",
    "'''"
   ]
  }
 ],
 "metadata": {
  "kernelspec": {
   "display_name": "Python 3",
   "language": "python",
   "name": "python3"
  },
  "language_info": {
   "codemirror_mode": {
    "name": "ipython",
    "version": 3
   },
   "file_extension": ".py",
   "mimetype": "text/x-python",
   "name": "python",
   "nbconvert_exporter": "python",
   "pygments_lexer": "ipython3",
   "version": "3.5.5"
  }
 },
 "nbformat": 4,
 "nbformat_minor": 2
}
