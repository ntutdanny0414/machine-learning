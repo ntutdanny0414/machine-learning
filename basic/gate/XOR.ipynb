{
 "cells": [
  {
   "cell_type": "code",
   "execution_count": 1,
   "metadata": {},
   "outputs": [],
   "source": [
    "import numpy as np"
   ]
  },
  {
   "cell_type": "code",
   "execution_count": 2,
   "metadata": {},
   "outputs": [],
   "source": [
    "class Perceptron:    \n",
    "    def __init__(self, input_length, weights=None, bias=None):\n",
    "        if weights is None:\n",
    "            self.weights = np.ones(input_length) * 1\n",
    "        else:\n",
    "            self.weights = weights\n",
    "        if bias is None:\n",
    "            self.bias = -1\n",
    "        else:\n",
    "            self.bias = bias    \n",
    "    \n",
    "    @staticmethod    \n",
    "    def activation_function(x):\n",
    "        if x > 0:\n",
    "            return 1\n",
    "        return 0\n",
    "        \n",
    "    def __call__(self, input_data):\n",
    "        w_input = self.weights * input_data\n",
    "        w_sum = w_input.sum() + self.bias\n",
    "        return Perceptron.activation_function(w_sum), w_sum\n"
   ]
  },
  {
   "cell_type": "code",
   "execution_count": 3,
   "metadata": {},
   "outputs": [],
   "source": [
    "weights = np.array([1, 1])\n",
    "bias = -0.5    \n",
    "h1 = Perceptron(2, weights, bias)\n",
    "\n",
    "weights = np.array([1, 1])\n",
    "bias = -1.5 \n",
    "h2 = Perceptron(2, weights, bias)\n",
    "\n",
    "weights = np.array([1, -2])\n",
    "bias = -0.5   \n",
    "o1 = Perceptron(2, weights, bias)\n",
    "\n",
    "input_data = [np.array([0, 0]), np.array([0, 1]), \n",
    "              np.array([1, 0]), np.array([1, 1])]"
   ]
  },
  {
   "cell_type": "code",
   "execution_count": 4,
   "metadata": {},
   "outputs": [
    {
     "name": "stdout",
     "output_type": "stream",
     "text": [
      "[0 0] [-0.5 -1.5] [0 0] 0\n",
      "[0 1] [ 0.5 -0.5] [1 0] 1\n",
      "[1 0] [ 0.5 -0.5] [1 0] 1\n",
      "[1 1] [1.5 0.5] [1 1] 0\n"
     ]
    }
   ],
   "source": [
    "for x in input_data:\n",
    "    out1, w1 = h1(np.array(x))\n",
    "    out2, w2 = h2(np.array(x))\n",
    "    new_point = np.array([w1, w2])\n",
    "    new_input = np.array([out1, out2])\n",
    "    out, w = o1(new_input)\n",
    "    print(x, new_point, new_input, out)"
   ]
  },
  {
   "cell_type": "markdown",
   "metadata": {},
   "source": [
    "#### USE AND NAND OR"
   ]
  },
  {
   "cell_type": "code",
   "execution_count": 5,
   "metadata": {},
   "outputs": [],
   "source": [
    "weights = np.array([1, 1])\n",
    "bias = -1    \n",
    "AND_Gate = Perceptron(2, weights, bias)\n",
    "\n",
    "weights = np.array([-1, -1])\n",
    "bias = 1.5 \n",
    "NAND_Gate = Perceptron(2, weights, bias)\n",
    "\n",
    "weights = np.array([1, 1])\n",
    "bias = -0.5   \n",
    "OR_Gate = Perceptron(2, weights, bias)\n",
    "\n",
    "input_data = [np.array([0, 0]), np.array([0, 1]), \n",
    "              np.array([1, 0]), np.array([1, 1])]"
   ]
  },
  {
   "cell_type": "code",
   "execution_count": 6,
   "metadata": {},
   "outputs": [
    {
     "name": "stdout",
     "output_type": "stream",
     "text": [
      "[0 0] [-0.5  1.5] [0 1] 0\n",
      "[0 1] [0.5 0.5] [1 1] 1\n",
      "[1 0] [0.5 0.5] [1 1] 1\n",
      "[1 1] [ 1.5 -0.5] [1 0] 0\n"
     ]
    }
   ],
   "source": [
    "for x in input_data:\n",
    "    out1, w1 = OR_Gate(np.array(x))\n",
    "    out2, w2 = NAND_Gate(np.array(x))\n",
    "    new_point = np.array([w1, w2])\n",
    "    new_input = np.array([out1, out2])\n",
    "    out, w = AND_Gate(new_input)\n",
    "    print(x, new_point, new_input, out)"
   ]
  }
 ],
 "metadata": {
  "kernelspec": {
   "display_name": "tensorflow",
   "language": "python",
   "name": "tf"
  },
  "language_info": {
   "codemirror_mode": {
    "name": "ipython",
    "version": 3
   },
   "file_extension": ".py",
   "mimetype": "text/x-python",
   "name": "python",
   "nbconvert_exporter": "python",
   "pygments_lexer": "ipython3",
   "version": "3.5.5"
  }
 },
 "nbformat": 4,
 "nbformat_minor": 2
}
