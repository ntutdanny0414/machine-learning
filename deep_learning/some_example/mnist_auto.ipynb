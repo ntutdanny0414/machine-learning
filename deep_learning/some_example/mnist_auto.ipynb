{
 "cells": [
  {
   "cell_type": "code",
   "execution_count": 1,
   "metadata": {},
   "outputs": [],
   "source": [
    "import numpy as np\n",
    "from tensorflow.keras.datasets import mnist\n",
    "from tensorflow.keras.models import Model\n",
    "from tensorflow.keras.layers import Input, Conv2D, MaxPooling2D, UpSampling2D"
   ]
  },
  {
   "cell_type": "code",
   "execution_count": 2,
   "metadata": {},
   "outputs": [],
   "source": [
    "np.random.seed(7)\n",
    "\n",
    "(X_train, _), (X_test, _) = mnist.load_data()\n",
    "\n",
    "X_train = X_train.reshape(X_train.shape[0], 28, 28, 1).astype(\"float32\")\n",
    "X_test = X_test.reshape(X_test.shape[0], 28, 28, 1).astype(\"float32\")\n",
    "\n",
    "X_train = X_train / 255\n",
    "X_test = X_test / 255"
   ]
  },
  {
   "cell_type": "code",
   "execution_count": 3,
   "metadata": {},
   "outputs": [
    {
     "name": "stdout",
     "output_type": "stream",
     "text": [
      "_________________________________________________________________\n",
      "Layer (type)                 Output Shape              Param #   \n",
      "=================================================================\n",
      "input_1 (InputLayer)         (None, 28, 28, 1)         0         \n",
      "_________________________________________________________________\n",
      "conv2d (Conv2D)              (None, 28, 28, 16)        160       \n",
      "_________________________________________________________________\n",
      "max_pooling2d (MaxPooling2D) (None, 14, 14, 16)        0         \n",
      "_________________________________________________________________\n",
      "conv2d_1 (Conv2D)            (None, 14, 14, 8)         1160      \n",
      "_________________________________________________________________\n",
      "max_pooling2d_1 (MaxPooling2 (None, 7, 7, 8)           0         \n",
      "_________________________________________________________________\n",
      "conv2d_2 (Conv2D)            (None, 7, 7, 8)           584       \n",
      "_________________________________________________________________\n",
      "max_pooling2d_2 (MaxPooling2 (None, 4, 4, 8)           0         \n",
      "=================================================================\n",
      "Total params: 1,904\n",
      "Trainable params: 1,904\n",
      "Non-trainable params: 0\n",
      "_________________________________________________________________\n"
     ]
    }
   ],
   "source": [
    "input_img = Input(shape=(28,28,1))\n",
    "x = Conv2D(16, (3,3), activation=\"relu\", padding=\"same\")(input_img)\n",
    "x = MaxPooling2D((2,2), padding=\"same\")(x)\n",
    "x = Conv2D(8, (3,3), activation=\"relu\", padding=\"same\")(x)\n",
    "x = MaxPooling2D((2,2), padding=\"same\")(x)\n",
    "x = Conv2D(8, (3,3), activation=\"relu\", padding=\"same\")(x)\n",
    "encoded = MaxPooling2D((2,2), padding=\"same\")(x)\n",
    "x = Conv2D(8, (3,3), activation=\"relu\", padding=\"same\")(encoded)\n",
    "x = UpSampling2D((2,2))(x)\n",
    "x = Conv2D(8, (3,3), activation=\"relu\", padding=\"same\")(x)\n",
    "x = UpSampling2D((2,2))(x)\n",
    "x = Conv2D(16, (3,3), activation=\"relu\")(x)\n",
    "x = UpSampling2D((2,2))(x)\n",
    "decoded = Conv2D(1, (3, 3), activation=\"sigmoid\", padding=\"same\")(x)\n",
    "autoencoder = Model(input_img, decoded)\n",
    "encoder = Model(input_img, encoded)\n",
    "encoder.summary()"
   ]
  },
  {
   "cell_type": "code",
   "execution_count": 4,
   "metadata": {},
   "outputs": [
    {
     "name": "stdout",
     "output_type": "stream",
     "text": [
      "_________________________________________________________________\n",
      "Layer (type)                 Output Shape              Param #   \n",
      "=================================================================\n",
      "input_2 (InputLayer)         (None, 4, 4, 8)           0         \n",
      "_________________________________________________________________\n",
      "conv2d_3 (Conv2D)            (None, 4, 4, 8)           584       \n",
      "_________________________________________________________________\n",
      "up_sampling2d (UpSampling2D) (None, 8, 8, 8)           0         \n",
      "_________________________________________________________________\n",
      "conv2d_4 (Conv2D)            (None, 8, 8, 8)           584       \n",
      "_________________________________________________________________\n",
      "up_sampling2d_1 (UpSampling2 (None, 16, 16, 8)         0         \n",
      "_________________________________________________________________\n",
      "conv2d_5 (Conv2D)            (None, 14, 14, 16)        1168      \n",
      "_________________________________________________________________\n",
      "up_sampling2d_2 (UpSampling2 (None, 28, 28, 16)        0         \n",
      "_________________________________________________________________\n",
      "conv2d_6 (Conv2D)            (None, 28, 28, 1)         145       \n",
      "=================================================================\n",
      "Total params: 2,481\n",
      "Trainable params: 2,481\n",
      "Non-trainable params: 0\n",
      "_________________________________________________________________\n"
     ]
    }
   ],
   "source": [
    "decoder_input = Input(shape=(4,4,8))\n",
    "decoder_layer = autoencoder.layers[-7](decoder_input)\n",
    "decoder_layer = autoencoder.layers[-6](decoder_layer)\n",
    "decoder_layer = autoencoder.layers[-5](decoder_layer)\n",
    "decoder_layer = autoencoder.layers[-4](decoder_layer)\n",
    "decoder_layer = autoencoder.layers[-3](decoder_layer)\n",
    "decoder_layer = autoencoder.layers[-2](decoder_layer)\n",
    "decoder_layer = autoencoder.layers[-1](decoder_layer)\n",
    "decoder = Model(decoder_input, decoder_layer)\n",
    "decoder.summary()"
   ]
  },
  {
   "cell_type": "code",
   "execution_count": 5,
   "metadata": {},
   "outputs": [
    {
     "name": "stdout",
     "output_type": "stream",
     "text": [
      "Train on 60000 samples, validate on 10000 samples\n",
      "Epoch 1/10\n",
      " - 15s - loss: 26.3973 - acc: 0.7962 - val_loss: 19.1366 - val_acc: 0.8019\n",
      "Epoch 2/10\n",
      " - 8s - loss: 17.4615 - acc: 0.8047 - val_loss: 16.0983 - val_acc: 0.8053\n",
      "Epoch 3/10\n",
      " - 8s - loss: 15.6197 - acc: 0.8080 - val_loss: 14.9453 - val_acc: 0.8080\n",
      "Epoch 4/10\n",
      " - 8s - loss: 14.7616 - acc: 0.8094 - val_loss: 14.3009 - val_acc: 0.8090\n",
      "Epoch 5/10\n",
      " - 8s - loss: 14.2397 - acc: 0.8101 - val_loss: 13.9258 - val_acc: 0.8087\n",
      "Epoch 6/10\n",
      " - 8s - loss: 13.8846 - acc: 0.8106 - val_loss: 13.5986 - val_acc: 0.8097\n",
      "Epoch 7/10\n",
      " - 8s - loss: 13.6187 - acc: 0.8109 - val_loss: 13.3757 - val_acc: 0.8097\n",
      "Epoch 8/10\n",
      " - 8s - loss: 13.4075 - acc: 0.8113 - val_loss: 13.2006 - val_acc: 0.8103\n",
      "Epoch 9/10\n",
      " - 8s - loss: 13.2266 - acc: 0.8115 - val_loss: 13.0171 - val_acc: 0.8103\n",
      "Epoch 10/10\n",
      " - 8s - loss: 13.0790 - acc: 0.8117 - val_loss: 12.9442 - val_acc: 0.8113\n"
     ]
    },
    {
     "data": {
      "text/plain": [
       "<tensorflow.python.keras.callbacks.History at 0x251ce284c50>"
      ]
     },
     "execution_count": 5,
     "metadata": {},
     "output_type": "execute_result"
    }
   ],
   "source": [
    "autoencoder.compile(loss=\"binary_crossentropy\", optimizer=\"adam\",\n",
    "                    metrics=[\"accuracy\"])\n",
    "\n",
    "autoencoder.fit(X_train, X_train, validation_data=(X_test, X_test), \n",
    "                epochs=10, batch_size=128, shuffle=True, verbose=2)"
   ]
  },
  {
   "cell_type": "code",
   "execution_count": 6,
   "metadata": {},
   "outputs": [],
   "source": [
    "# 壓縮圖片\n",
    "encoded_imgs = encoder.predict(X_test)\n",
    "# 解壓縮圖片\n",
    "decoded_imgs = decoder.predict(encoded_imgs)"
   ]
  },
  {
   "cell_type": "code",
   "execution_count": 8,
   "metadata": {},
   "outputs": [
    {
     "data": {
      "image/png": "[encoded data removed]",
      "text/plain": [
       "<Figure size 1440x576 with 30 Axes>"
      ]
     },
     "metadata": {},
     "output_type": "display_data"
    }
   ],
   "source": [
    "import matplotlib.pyplot as plt\n",
    "\n",
    "n = 10\n",
    "plt.figure(figsize=(20, 8))\n",
    "for i in range(n):\n",
    "    # 原始圖片\n",
    "    ax = plt.subplot(3, n, i + 1)\n",
    "    ax.imshow(X_test[i].reshape(28, 28), cmap=\"gray\")\n",
    "    ax.axis(\"off\")\n",
    "    # 壓縮圖片\n",
    "    ax = plt.subplot(3, n, i + 1 + n)\n",
    "    ax.imshow(encoded_imgs[i].reshape(4, 4*8).T, cmap=\"gray\")\n",
    "    ax.axis(\"off\")\n",
    "    # 還原圖片\n",
    "    ax = plt.subplot(3, n, i + 1 + 2*n)\n",
    "    ax.imshow(decoded_imgs[i].reshape(28, 28), cmap=\"gray\")\n",
    "    ax.axis(\"off\")\n",
    "plt.show()"
   ]
  },
  {
   "cell_type": "code",
   "execution_count": null,
   "metadata": {},
   "outputs": [],
   "source": [
    "nf = 0.5\n",
    "size_train = X_train.shape\n",
    "X_train_noisy = X_train+nf*np.random.normal(loc=0.0,\n",
    "                          scale=1.0,size=size_train)\n",
    "X_train_noisy = np.clip(X_train_noisy, 0., 1.)\n",
    "size_test = X_test.shape\n",
    "X_test_noisy = X_test+nf*np.random.normal(loc=0.0,\n",
    "                          scale=1.0,size=size_test)\n",
    "X_test_noisy = np.clip(X_test_noisy, 0., 1.)"
   ]
  },
  {
   "cell_type": "code",
   "execution_count": null,
   "metadata": {},
   "outputs": [],
   "source": [
    "input_img = Input(shape=(28,28,1))\n",
    "x = Conv2D(16, (3,3), activation=\"relu\", padding=\"same\")(input_img)\n",
    "x = MaxPooling2D((2,2), padding=\"same\")(x)\n",
    "x = Conv2D(8, (3,3), activation=\"relu\", padding=\"same\")(x)\n",
    "x = MaxPooling2D((2,2), padding=\"same\")(x)\n",
    "x = Conv2D(8, (3,3), activation=\"relu\", padding=\"same\")(x)\n",
    "encoded = MaxPooling2D((2,2), padding=\"same\")(x)\n",
    "x = Conv2D(8, (3,3), activation=\"relu\", padding=\"same\")(encoded)\n",
    "x = UpSampling2D((2,2))(x)\n",
    "x = Conv2D(8, (3,3), activation=\"relu\", padding=\"same\")(x)\n",
    "x = UpSampling2D((2,2))(x)\n",
    "x = Conv2D(16, (3,3), activation=\"relu\")(x)\n",
    "x = UpSampling2D((2,2))(x)\n",
    "decoded = Conv2D(1, (3, 3), activation=\"sigmoid\", padding=\"same\")(x)\n",
    "autoencoder = Model(input_img, decoded)\n",
    "\n",
    "encoder = Model(input_img, encoded)\n",
    "encoder.summary()"
   ]
  },
  {
   "cell_type": "code",
   "execution_count": null,
   "metadata": {},
   "outputs": [],
   "source": [
    "decoder_input = Input(shape=(4,4,8))\n",
    "decoder_layer = autoencoder.layers[-7](decoder_input)\n",
    "decoder_layer = autoencoder.layers[-6](decoder_layer)\n",
    "decoder_layer = autoencoder.layers[-5](decoder_layer)\n",
    "decoder_layer = autoencoder.layers[-4](decoder_layer)\n",
    "decoder_layer = autoencoder.layers[-3](decoder_layer)\n",
    "decoder_layer = autoencoder.layers[-2](decoder_layer)\n",
    "decoder_layer = autoencoder.layers[-1](decoder_layer)\n",
    "decoder = Model(decoder_input, decoder_layer)\n",
    "decoder.summary()"
   ]
  },
  {
   "cell_type": "code",
   "execution_count": null,
   "metadata": {},
   "outputs": [],
   "source": [
    "autoencoder.compile(loss=\"binary_crossentropy\", optimizer=\"adam\",\n",
    "                    metrics=[\"accuracy\"])\n",
    "\n",
    "autoencoder.fit(X_train_noisy, X_train, \n",
    "                validation_data=(X_test_noisy, X_test), \n",
    "                epochs=10, batch_size=128, shuffle=True, verbose=2)"
   ]
  },
  {
   "cell_type": "code",
   "execution_count": null,
   "metadata": {},
   "outputs": [],
   "source": [
    "encoded_imgs = encoder.predict(X_test_noisy)\n",
    "\n",
    "decoded_imgs = decoder.predict(encoded_imgs)"
   ]
  },
  {
   "cell_type": "code",
   "execution_count": null,
   "metadata": {},
   "outputs": [],
   "source": [
    "import matplotlib.pyplot as plt\n",
    "\n",
    "n = 10 \n",
    "plt.figure(figsize=(20, 8))\n",
    "for i in range(n):\n",
    "    # 雜訊圖片\n",
    "    ax = plt.subplot(3, n, i + 1)\n",
    "    ax.imshow(X_test_noisy[i].reshape(28, 28), cmap=\"gray\")\n",
    "    ax.axis(\"off\")\n",
    "    # 壓縮圖片\n",
    "    ax = plt.subplot(3, n, i + 1 + n)\n",
    "    ax.imshow(encoded_imgs[i].reshape(4, 4*8).T, cmap=\"gray\")\n",
    "    ax.axis(\"off\")\n",
    "    # 還原圖片\n",
    "    ax = plt.subplot(3, n, i + 1 + 2*n)\n",
    "    ax.imshow(decoded_imgs[i].reshape(28, 28), cmap=\"gray\")\n",
    "    ax.axis(\"off\")\n",
    "plt.show()"
   ]
  }
 ],
 "metadata": {
  "kernelspec": {
   "display_name": "tensorflow",
   "language": "python",
   "name": "tf"
  },
  "language_info": {
   "codemirror_mode": {
    "name": "ipython",
    "version": 3
   },
   "file_extension": ".py",
   "mimetype": "text/x-python",
   "name": "python",
   "nbconvert_exporter": "python",
   "pygments_lexer": "ipython3",
   "version": "3.5.5"
  }
 },
 "nbformat": 4,
 "nbformat_minor": 2
}
