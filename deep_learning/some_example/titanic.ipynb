{
 "cells": [
  {
   "cell_type": "code",
   "execution_count": 7,
   "metadata": {},
   "outputs": [],
   "source": [
    "import pandas as pd\n",
    "import numpy as np\n",
    "from tensorflow.keras.models import Sequential\n",
    "from tensorflow.keras.layers import Dense"
   ]
  },
  {
   "cell_type": "code",
   "execution_count": 2,
   "metadata": {},
   "outputs": [],
   "source": [
    "np.random.seed(7)\n",
    "# 載入資料集\n",
    "df = pd.read_csv(\"./titanic_data.csv\")"
   ]
  },
  {
   "cell_type": "code",
   "execution_count": 3,
   "metadata": {},
   "outputs": [],
   "source": [
    "df = df.drop([\"name\", \"ticket\", \"cabin\"], axis=1)\n",
    "\n",
    "df[[\"age\"]] = df[[\"age\"]].fillna(value=df[[\"age\"]].mean())\n",
    "df[[\"fare\"]] = df[[\"fare\"]].fillna(value=df[[\"fare\"]].mean())\n",
    "df[[\"embarked\"]] = df[[\"embarked\"]].fillna(value=df[\"embarked\"].\n",
    "                   value_counts().idxmax())"
   ]
  },
  {
   "cell_type": "code",
   "execution_count": 4,
   "metadata": {},
   "outputs": [],
   "source": [
    "df[\"sex\"] = df[\"sex\"].map( {\"female\": 1, \"male\": 0} ).astype(int)\n",
    "enbarked_one_hot = pd.get_dummies(df[\"embarked\"], prefix=\"embarked\")\n",
    "df = df.drop(\"embarked\", axis=1)\n",
    "df = df.join(enbarked_one_hot)"
   ]
  },
  {
   "cell_type": "code",
   "execution_count": 5,
   "metadata": {},
   "outputs": [],
   "source": [
    "df_survived = df.pop(\"survived\") \n",
    "df[\"survived\"] = df_survived"
   ]
  },
  {
   "cell_type": "code",
   "execution_count": 6,
   "metadata": {},
   "outputs": [],
   "source": [
    "mask = np.random.rand(len(df)) < 0.8\n",
    "df_train = df[mask]\n",
    "df_test = df[~mask]"
   ]
  },
  {
   "cell_type": "code",
   "execution_count": 8,
   "metadata": {},
   "outputs": [],
   "source": [
    "dataset_train = df_train.values\n",
    "dataset_test = df_test.values\n",
    "\n",
    "X_train = dataset_train[:, 0:9]\n",
    "Y_train = dataset_train[:, 9]\n",
    "X_test = dataset_test[:, 0:9]\n",
    "Y_test = dataset_test[:, 9]\n",
    "\n",
    "X_train -= X_train.mean(axis=0)\n",
    "X_train /= X_train.std(axis=0)\n",
    "X_test -= X_test.mean(axis=0)\n",
    "X_test /= X_test.std(axis=0)"
   ]
  },
  {
   "cell_type": "code",
   "execution_count": 13,
   "metadata": {
    "scrolled": true
   },
   "outputs": [
    {
     "name": "stdout",
     "output_type": "stream",
     "text": [
      "_________________________________________________________________\n",
      "Layer (type)                 Output Shape              Param #   \n",
      "=================================================================\n",
      "dense_3 (Dense)              (None, 11)                110       \n",
      "_________________________________________________________________\n",
      "dense_4 (Dense)              (None, 11)                132       \n",
      "_________________________________________________________________\n",
      "dense_5 (Dense)              (None, 1)                 12        \n",
      "=================================================================\n",
      "Total params: 254\n",
      "Trainable params: 254\n",
      "Non-trainable params: 0\n",
      "_________________________________________________________________\n",
      "Train on 836 samples, validate on 209 samples\n",
      "Epoch 1/18\n",
      "836/836 [==============================] - 1s 2ms/step - loss: 0.6794 - acc: 0.6400 - val_loss: 0.6594 - val_acc: 0.6986\n",
      "Epoch 2/18\n",
      "836/836 [==============================] - 0s 534us/step - loss: 0.6292 - acc: 0.7225 - val_loss: 0.5869 - val_acc: 0.7129\n",
      "Epoch 3/18\n",
      "836/836 [==============================] - 0s 522us/step - loss: 0.5613 - acc: 0.7739 - val_loss: 0.5251 - val_acc: 0.7081\n",
      "Epoch 4/18\n",
      "836/836 [==============================] - 0s 489us/step - loss: 0.5078 - acc: 0.7739 - val_loss: 0.4899 - val_acc: 0.7464\n",
      "Epoch 5/18\n",
      "836/836 [==============================] - 0s 509us/step - loss: 0.4795 - acc: 0.7895 - val_loss: 0.4836 - val_acc: 0.7703\n",
      "Epoch 6/18\n",
      "836/836 [==============================] - 0s 536us/step - loss: 0.4672 - acc: 0.7859 - val_loss: 0.4784 - val_acc: 0.7751\n",
      "Epoch 7/18\n",
      "836/836 [==============================] - 0s 523us/step - loss: 0.4599 - acc: 0.7883 - val_loss: 0.4733 - val_acc: 0.7703\n",
      "Epoch 8/18\n",
      "836/836 [==============================] - 0s 545us/step - loss: 0.4549 - acc: 0.7955 - val_loss: 0.4753 - val_acc: 0.7703\n",
      "Epoch 9/18\n",
      "836/836 [==============================] - 0s 528us/step - loss: 0.4508 - acc: 0.7931 - val_loss: 0.4735 - val_acc: 0.7703\n",
      "Epoch 10/18\n",
      "836/836 [==============================] - 0s 537us/step - loss: 0.4480 - acc: 0.7919 - val_loss: 0.4700 - val_acc: 0.7799\n",
      "Epoch 11/18\n",
      "836/836 [==============================] - 0s 476us/step - loss: 0.4451 - acc: 0.7919 - val_loss: 0.4704 - val_acc: 0.7751\n",
      "Epoch 12/18\n",
      "836/836 [==============================] - 0s 470us/step - loss: 0.4441 - acc: 0.7990 - val_loss: 0.4704 - val_acc: 0.7751\n",
      "Epoch 13/18\n",
      "836/836 [==============================] - 0s 491us/step - loss: 0.4417 - acc: 0.7931 - val_loss: 0.4656 - val_acc: 0.7895\n",
      "Epoch 14/18\n",
      "836/836 [==============================] - 0s 476us/step - loss: 0.4405 - acc: 0.8050 - val_loss: 0.4679 - val_acc: 0.7847\n",
      "Epoch 15/18\n",
      "836/836 [==============================] - 0s 477us/step - loss: 0.4381 - acc: 0.8110 - val_loss: 0.4639 - val_acc: 0.7847\n",
      "Epoch 16/18\n",
      "836/836 [==============================] - 0s 489us/step - loss: 0.4358 - acc: 0.8062 - val_loss: 0.4627 - val_acc: 0.7895\n",
      "Epoch 17/18\n",
      "836/836 [==============================] - 0s 467us/step - loss: 0.4343 - acc: 0.8074 - val_loss: 0.4603 - val_acc: 0.7943\n",
      "Epoch 18/18\n",
      "836/836 [==============================] - 0s 507us/step - loss: 0.4325 - acc: 0.8110 - val_loss: 0.4614 - val_acc: 0.7895\n"
     ]
    }
   ],
   "source": [
    "model = Sequential()\n",
    "model.add(Dense(11, input_dim=X_train.shape[1], activation=\"relu\"))\n",
    "model.add(Dense(11, activation=\"relu\"))\n",
    "model.add(Dense(1, activation=\"sigmoid\"))\n",
    "model.summary()\n",
    "model.compile(loss=\"binary_crossentropy\", optimizer=\"adam\",\n",
    "              metrics=[\"accuracy\"])\n",
    "\n",
    "history = model.fit(X_train, Y_train, validation_split=0.2, \n",
    "          epochs=18, batch_size=10)"
   ]
  },
  {
   "cell_type": "code",
   "execution_count": 14,
   "metadata": {},
   "outputs": [
    {
     "name": "stdout",
     "output_type": "stream",
     "text": [
      "train = 0.81\n",
      "test = 0.80\n"
     ]
    }
   ],
   "source": [
    "loss, accuracy = model.evaluate(X_train, Y_train, verbose=0)\n",
    "print(\"train = {:.2f}\".format(accuracy))\n",
    "loss, accuracy = model.evaluate(X_test, Y_test, verbose=0)\n",
    "print(\"test = {:.2f}\".format(accuracy))"
   ]
  },
  {
   "cell_type": "code",
   "execution_count": 15,
   "metadata": {},
   "outputs": [
    {
     "data": {
      "image/png": "[encoded data removed]",
      "text/plain": [
       "<Figure size 432x288 with 1 Axes>"
      ]
     },
     "metadata": {},
     "output_type": "display_data"
    }
   ],
   "source": [
    "import matplotlib.pyplot as plt\n",
    "\n",
    "loss = history.history[\"loss\"]\n",
    "epochs = range(1, len(loss)+1)\n",
    "val_loss = history.history[\"val_loss\"]\n",
    "plt.plot(epochs, loss, \"b-\", label=\"Training Loss\")\n",
    "plt.plot(epochs, val_loss, \"r--\", label=\"Validation Loss\")\n",
    "plt.title(\"Training and Validation Loss\")\n",
    "plt.xlabel(\"Epochs\")\n",
    "plt.ylabel(\"Loss\")\n",
    "plt.legend()\n",
    "plt.show()"
   ]
  },
  {
   "cell_type": "code",
   "execution_count": 18,
   "metadata": {},
   "outputs": [
    {
     "data": {
      "image/png": "[encoded data removed]",
      "text/plain": [
       "<Figure size 432x288 with 1 Axes>"
      ]
     },
     "metadata": {},
     "output_type": "display_data"
    }
   ],
   "source": [
    "acc = history.history[\"acc\"]\n",
    "epochs = range(1, len(acc)+1)\n",
    "val_acc = history.history[\"val_acc\"]\n",
    "plt.plot(epochs, acc, \"b-\", label=\"Training Acc\")\n",
    "plt.plot(epochs, val_acc, \"r--\", label=\"Validation Acc\")\n",
    "plt.title(\"Training and Validation Accuracy\")\n",
    "plt.xlabel(\"Epochs\")\n",
    "plt.ylabel(\"Accuracy\")\n",
    "plt.legend()\n",
    "plt.show()"
   ]
  },
  {
   "cell_type": "code",
   "execution_count": 19,
   "metadata": {},
   "outputs": [
    {
     "name": "stdout",
     "output_type": "stream",
     "text": [
      "[1 1 0 1 1 1 1 0 0 1 1 0 0 1 1 0 0 1 1 1 0 1 0 1 1 0 1 1 0 0 1 0 0 1 0 1 0\n",
      " 0 1 0 0 0 1 0 1 0 0 1 0 1 1 1 0 1 1 1 1 1 0 0 0 1 1 1 0 1 1 0 0 0 1 0 0 0\n",
      " 1 1 0 1 0 0 1 1 0 1 0 0 1 1 0 0 0 0 0 0 0 1 0 0 1 0 1 0 0 0 0 1 1 1 0 0 0\n",
      " 0 1 1 0 0 0 0 0 0 1 1 1 0 0 0 1 1 1 0 1 0 0 0 0 0 1 0 0 0 1 0 1 0 0 1 0 1\n",
      " 0 0 0 0 0 0 0 0 0 0 0 0 0 1 0 0 0 0 0 0 0 1 0 0 1 1 0 0 0 0 0 0 0 0 0 1 0\n",
      " 0 0 0 0 1 0 0 0 0 0 0 1 0 0 0 0 0 0 0 0 0 0 0 1 0 0 0 0 0 0 1 0 0 0 0 0 0\n",
      " 0 0 0 1 1 0 0 0 0 0 0 0 0 0 0 0 0 0 1 0 0 0 0 0 0 1 0 0 0 0 0 0 1 0 0 0 0\n",
      " 0 0 1 0 0]\n",
      "[0 1 0 1 1 1 1 1 0 1 1 1 0 1 1 1 1 1 0 0 0 1 0 1 0 1 1 1 0 0 1 0 1 1 0 1 0\n",
      " 1 0 0 0 0 1 0 1 0 1 1 0 1 1 1 0 0 1 1 1 1 0 0 0 0 1 1 0 0 1 0 0 0 1 0 0 0\n",
      " 1 1 0 1 0 0 1 1 0 1 0 0 1 0 0 0 0 0 0 0 0 1 0 0 1 0 0 1 0 0 0 1 1 1 0 0 1\n",
      " 0 1 1 0 0 1 1 0 0 1 1 1 0 0 0 1 1 1 0 1 0 0 1 0 0 1 0 1 0 1 1 1 0 0 0 0 0\n",
      " 0 0 0 0 0 1 0 0 1 0 1 0 0 1 0 0 0 0 0 1 0 0 0 0 1 1 0 0 0 0 0 0 0 1 0 1 1\n",
      " 0 1 0 0 0 0 0 0 1 0 1 0 0 0 0 1 0 0 0 1 0 1 0 0 0 0 0 0 0 1 1 0 1 1 0 0 0\n",
      " 0 0 0 0 1 0 0 0 0 0 0 0 0 0 0 0 1 0 1 0 0 0 0 0 1 0 0 0 0 0 0 0 0 0 0 0 1\n",
      " 0 0 0 0 0]\n",
      "predict    0   1\n",
      "label           \n",
      "0        149  20\n",
      "1         33  62\n"
     ]
    }
   ],
   "source": [
    "Y_pred = model.predict_classes(X_test)\n",
    "print(Y_pred[:,0])\n",
    "print(Y_test.astype(int))\n",
    "\n",
    "tb = pd.crosstab(Y_test.astype(int), Y_pred[:,0],\n",
    "                 rownames=[\"label\"], colnames=[\"predict\"])\n",
    "print(tb)"
   ]
  }
 ],
 "metadata": {
  "kernelspec": {
   "display_name": "tensorflow",
   "language": "python",
   "name": "tf"
  },
  "language_info": {
   "codemirror_mode": {
    "name": "ipython",
    "version": 3
   },
   "file_extension": ".py",
   "mimetype": "text/x-python",
   "name": "python",
   "nbconvert_exporter": "python",
   "pygments_lexer": "ipython3",
   "version": "3.5.5"
  }
 },
 "nbformat": 4,
 "nbformat_minor": 2
}
