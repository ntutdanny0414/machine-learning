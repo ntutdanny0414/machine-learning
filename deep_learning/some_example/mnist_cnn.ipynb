{
 "cells": [
  {
   "cell_type": "code",
   "execution_count": 11,
   "metadata": {},
   "outputs": [],
   "source": [
    "import numpy as np\n",
    "import pandas as pd\n",
    "from tensorflow.keras.datasets import mnist\n",
    "from tensorflow.keras.models import Sequential\n",
    "from tensorflow.keras.layers import Dense\n",
    "from tensorflow.keras.layers import Flatten\n",
    "from tensorflow.keras.layers import Conv2D\n",
    "from tensorflow.keras.layers import MaxPooling2D\n",
    "from tensorflow.keras.layers import Dropout\n",
    "from tensorflow.keras.utils import to_categorical"
   ]
  },
  {
   "cell_type": "code",
   "execution_count": 9,
   "metadata": {},
   "outputs": [],
   "source": [
    "seed = 7\n",
    "np.random.seed(seed)\n",
    "\n",
    "(X_train, Y_train), (X_test, Y_test) = mnist.load_data()\n",
    "\n",
    "X_train = X_train.reshape(X_train.shape[0], 28, 28, 1).astype(\"float32\")\n",
    "X_test = X_test.reshape(X_test.shape[0], 28, 28, 1).astype(\"float32\")\n",
    "\n",
    "X_train = X_train / 255\n",
    "X_test = X_test / 255\n",
    "Y_test_bk = Y_test.copy()\n",
    "Y_train = to_categorical(Y_train)\n",
    "Y_test = to_categorical(Y_test)"
   ]
  },
  {
   "cell_type": "code",
   "execution_count": 3,
   "metadata": {},
   "outputs": [
    {
     "name": "stdout",
     "output_type": "stream",
     "text": [
      "_________________________________________________________________\n",
      "Layer (type)                 Output Shape              Param #   \n",
      "=================================================================\n",
      "conv2d (Conv2D)              (None, 28, 28, 16)        416       \n",
      "_________________________________________________________________\n",
      "max_pooling2d (MaxPooling2D) (None, 14, 14, 16)        0         \n",
      "_________________________________________________________________\n",
      "conv2d_1 (Conv2D)            (None, 14, 14, 32)        12832     \n",
      "_________________________________________________________________\n",
      "max_pooling2d_1 (MaxPooling2 (None, 7, 7, 32)          0         \n",
      "_________________________________________________________________\n",
      "dropout (Dropout)            (None, 7, 7, 32)          0         \n",
      "_________________________________________________________________\n",
      "flatten (Flatten)            (None, 1568)              0         \n",
      "_________________________________________________________________\n",
      "dense (Dense)                (None, 128)               200832    \n",
      "_________________________________________________________________\n",
      "dropout_1 (Dropout)          (None, 128)               0         \n",
      "_________________________________________________________________\n",
      "dense_1 (Dense)              (None, 10)                1290      \n",
      "=================================================================\n",
      "Total params: 215,370\n",
      "Trainable params: 215,370\n",
      "Non-trainable params: 0\n",
      "_________________________________________________________________\n",
      "Train on 48000 samples, validate on 12000 samples\n",
      "Epoch 1/10\n",
      " - 11s - loss: 0.3978 - acc: 0.8741 - val_loss: 0.0765 - val_acc: 0.9772\n",
      "Epoch 2/10\n",
      " - 5s - loss: 0.1312 - acc: 0.9607 - val_loss: 0.0572 - val_acc: 0.9839\n",
      "Epoch 3/10\n",
      " - 5s - loss: 0.0954 - acc: 0.9706 - val_loss: 0.0447 - val_acc: 0.9862\n",
      "Epoch 4/10\n",
      " - 5s - loss: 0.0817 - acc: 0.9750 - val_loss: 0.0398 - val_acc: 0.9886\n",
      "Epoch 5/10\n",
      " - 5s - loss: 0.0729 - acc: 0.9771 - val_loss: 0.0365 - val_acc: 0.9896\n",
      "Epoch 6/10\n",
      " - 5s - loss: 0.0661 - acc: 0.9803 - val_loss: 0.0328 - val_acc: 0.9908\n",
      "Epoch 7/10\n",
      " - 5s - loss: 0.0616 - acc: 0.9810 - val_loss: 0.0322 - val_acc: 0.9906\n",
      "Epoch 8/10\n",
      " - 5s - loss: 0.0550 - acc: 0.9832 - val_loss: 0.0308 - val_acc: 0.9911\n",
      "Epoch 9/10\n",
      " - 5s - loss: 0.0511 - acc: 0.9846 - val_loss: 0.0322 - val_acc: 0.9912\n",
      "Epoch 10/10\n",
      " - 6s - loss: 0.0482 - acc: 0.9854 - val_loss: 0.0289 - val_acc: 0.9913\n"
     ]
    }
   ],
   "source": [
    "model = Sequential()\n",
    "model.add(Conv2D(16, kernel_size=(5, 5), padding=\"same\",\n",
    "                 input_shape=(28, 28, 1), activation=\"relu\"))\n",
    "model.add(MaxPooling2D(pool_size=(2, 2)))\n",
    "model.add(Conv2D(32, kernel_size=(5, 5), padding=\"same\",\n",
    "                 activation=\"relu\"))\n",
    "model.add(MaxPooling2D(pool_size=(2, 2)))\n",
    "model.add(Dropout(0.5))\n",
    "model.add(Flatten())\n",
    "model.add(Dense(128, activation=\"relu\"))\n",
    "model.add(Dropout(0.5))\n",
    "model.add(Dense(10, activation=\"softmax\"))\n",
    "model.summary() \n",
    "\n",
    "model.compile(loss=\"categorical_crossentropy\", optimizer=\"adam\",\n",
    "              metrics=[\"accuracy\"])\n",
    "\n",
    "history = model.fit(X_train, Y_train, validation_split=0.2,\n",
    "                    epochs=10, batch_size=128, verbose=2)"
   ]
  },
  {
   "cell_type": "code",
   "execution_count": 4,
   "metadata": {},
   "outputs": [
    {
     "name": "stdout",
     "output_type": "stream",
     "text": [
      "train 0.99\n",
      "test 0.99\n"
     ]
    }
   ],
   "source": [
    "loss, accuracy = model.evaluate(X_train, Y_train, verbose=0)\n",
    "print(\"train {:.2f}\".format(accuracy))\n",
    "loss, accuracy = model.evaluate(X_test, Y_test, verbose=0)\n",
    "print(\"test {:.2f}\".format(accuracy))"
   ]
  },
  {
   "cell_type": "code",
   "execution_count": 6,
   "metadata": {},
   "outputs": [
    {
     "data": {
      "image/png": "[encoded data removed]",
      "text/plain": [
       "<Figure size 432x288 with 1 Axes>"
      ]
     },
     "metadata": {},
     "output_type": "display_data"
    }
   ],
   "source": [
    "import matplotlib.pyplot as plt\n",
    "\n",
    "loss = history.history[\"loss\"]\n",
    "epochs = range(1, len(loss)+1)\n",
    "val_loss = history.history[\"val_loss\"]\n",
    "plt.plot(epochs, loss, \"bo-\", label=\"Training Loss\")\n",
    "plt.plot(epochs, val_loss, \"ro--\", label=\"Validation Loss\")\n",
    "plt.title(\"Training and Validation Loss\")\n",
    "plt.xlabel(\"Epochs\")\n",
    "plt.ylabel(\"Loss\")\n",
    "plt.legend()\n",
    "plt.show()"
   ]
  },
  {
   "cell_type": "code",
   "execution_count": 7,
   "metadata": {},
   "outputs": [
    {
     "data": {
      "image/png": "[encoded data removed]",
      "text/plain": [
       "<Figure size 432x288 with 1 Axes>"
      ]
     },
     "metadata": {},
     "output_type": "display_data"
    }
   ],
   "source": [
    "acc = history.history[\"acc\"]\n",
    "epochs = range(1, len(acc)+1)\n",
    "val_acc = history.history[\"val_acc\"]\n",
    "plt.plot(epochs, acc, \"bo-\", label=\"Training Acc\")\n",
    "plt.plot(epochs, val_acc, \"ro--\", label=\"Validation Acc\")\n",
    "plt.title(\"Training and Validation Accuracy\")\n",
    "plt.xlabel(\"Epochs\")\n",
    "plt.ylabel(\"Accuracy\")\n",
    "plt.legend()\n",
    "plt.show()"
   ]
  },
  {
   "cell_type": "code",
   "execution_count": 13,
   "metadata": {},
   "outputs": [
    {
     "name": "stdout",
     "output_type": "stream",
     "text": [
      "predict    0     1     2     3    4    5    6     7    8    9\n",
      "label                                                        \n",
      "0        978     0     0     0    0    0    0     1    1    0\n",
      "1          0  1134     0     0    0    0    0     1    0    0\n",
      "2          1     0  1029     0    0    0    0     2    0    0\n",
      "3          0     0     0  1004    0    4    0     0    2    0\n",
      "4          0     0     0     0  976    0    0     1    1    4\n",
      "5          1     0     0     6    0  882    1     0    1    1\n",
      "6          7     2     0     0    1    2  946     0    0    0\n",
      "7          0     1     4     1    0    0    0  1021    1    0\n",
      "8          3     1     1     1    0    1    0     2  964    1\n",
      "9          0     3     0     2    6    2    0     2    2  992\n"
     ]
    }
   ],
   "source": [
    "Y_pred = model.predict_classes(X_test)\n",
    "tb = pd.crosstab(Y_test_bk.astype(int), Y_pred.astype(int),\n",
    "                 rownames=[\"label\"], colnames=[\"predict\"])\n",
    "print(tb)"
   ]
  },
  {
   "cell_type": "code",
   "execution_count": 14,
   "metadata": {},
   "outputs": [
    {
     "name": "stdout",
     "output_type": "stream",
     "text": [
      "[[6.7773098e-09 1.7488092e-06 1.1063028e-06 1.0675397e-07 3.0531629e-03\n",
      "  3.7713895e-07 5.4664313e-09 4.1428910e-07 4.4244622e-05 9.9689889e-01]]\n"
     ]
    },
    {
     "data": {
      "image/png": "[encoded data removed]",
      "text/plain": [
       "<Figure size 432x288 with 2 Axes>"
      ]
     },
     "metadata": {},
     "output_type": "display_data"
    }
   ],
   "source": [
    "(X_train, Y_train), (X_test, Y_test) = mnist.load_data()\n",
    "i = 7\n",
    "digit = X_test[i].reshape(28, 28)\n",
    "X_test_digit = X_test[i].reshape(1, 28, 28, 1).astype(\"float32\")\n",
    "X_test_digit = X_test_digit / 255\n",
    "plt.figure()\n",
    "plt.subplot(1,2,1)\n",
    "plt.title(\"Example of Digit:\" + str(Y_test[i]))\n",
    "plt.imshow(digit, cmap=\"gray\")\n",
    "plt.axis(\"off\")\n",
    "\n",
    "\n",
    "probs = model.predict_proba(X_test_digit, batch_size=1)\n",
    "print(probs)\n",
    "plt.subplot(1,2,2)\n",
    "plt.title(\"Probabilities for Each Digit Class\")\n",
    "plt.bar(np.arange(10), probs.reshape(10), align=\"center\")\n",
    "plt.xticks(np.arange(10),np.arange(10).astype(str))\n",
    "plt.show()"
   ]
  },
  {
   "cell_type": "code",
   "execution_count": 15,
   "metadata": {},
   "outputs": [
    {
     "name": "stdout",
     "output_type": "stream",
     "text": [
      "     label  predict\n",
      "18       3        5\n",
      "259      6        0\n",
      "445      6        0\n",
      "582      8        2\n",
      "674      5        3\n"
     ]
    }
   ],
   "source": [
    "(X_train, Y_train), (X_test, Y_test) = mnist.load_data()\n",
    "X_test_bk = X_test.copy()\n",
    "X_test = X_test.reshape(X_test.shape[0], 28, 28, 1).astype(\"float32\")\n",
    "X_test = X_test / 255\n",
    "Y_pred = model.predict_classes(X_test)  # 分類\n",
    "Y_probs = model.predict_proba(X_test)   # 機率\n",
    "df = pd.DataFrame({\"label\":Y_test, \"predict\":Y_pred})\n",
    "df = df[Y_test!=Y_pred]  # 篩選出分類錯誤的資料\n",
    "print(df.head())"
   ]
  },
  {
   "cell_type": "code",
   "execution_count": 16,
   "metadata": {},
   "outputs": [
    {
     "name": "stdout",
     "output_type": "stream",
     "text": [
      "Index:  1901\n"
     ]
    },
    {
     "data": {
      "image/png": "[encoded data removed]",
      "text/plain": [
       "<Figure size 432x288 with 2 Axes>"
      ]
     },
     "metadata": {},
     "output_type": "display_data"
    }
   ],
   "source": [
    "i = df.sample(n=1).index.values.astype(int)[0]\n",
    "print(\"Index: \", i)\n",
    "digit = X_test_bk[i].reshape(28, 28) \n",
    "\n",
    "plt.figure()\n",
    "plt.subplot(1,2,1)\n",
    "plt.title(\"Example of Digit:\" + str(Y_test[i]))\n",
    "plt.imshow(digit, cmap=\"gray\")\n",
    "plt.axis(\"off\")\n",
    "plt.subplot(1,2,2)\n",
    "plt.title(\"Probabilities for Each Digit Class\")\n",
    "plt.bar(np.arange(10), Y_probs[i].reshape(10), align=\"center\")\n",
    "plt.xticks(np.arange(10),np.arange(10).astype(str))\n",
    "plt.show()"
   ]
  }
 ],
 "metadata": {
  "kernelspec": {
   "display_name": "tensorflow",
   "language": "python",
   "name": "tf"
  },
  "language_info": {
   "codemirror_mode": {
    "name": "ipython",
    "version": 3
   },
   "file_extension": ".py",
   "mimetype": "text/x-python",
   "name": "python",
   "nbconvert_exporter": "python",
   "pygments_lexer": "ipython3",
   "version": "3.5.5"
  }
 },
 "nbformat": 4,
 "nbformat_minor": 2
}
