{
 "cells": [
  {
   "cell_type": "code",
   "execution_count": 1,
   "metadata": {},
   "outputs": [],
   "source": [
    "import numpy as np\n",
    "import pandas as pd\n",
    "from tensorflow.keras.models import Sequential\n",
    "from tensorflow.keras.layers import Dense"
   ]
  },
  {
   "cell_type": "code",
   "execution_count": 2,
   "metadata": {},
   "outputs": [],
   "source": [
    "np.random.seed(10)\n",
    "df = pd.read_csv(\"./diabetes.csv\")\n",
    "dataset = df.values\n",
    "np.random.shuffle(dataset) "
   ]
  },
  {
   "cell_type": "code",
   "execution_count": 3,
   "metadata": {},
   "outputs": [],
   "source": [
    "X = dataset[:, 0:8]\n",
    "Y = dataset[:, 8]\n",
    "#Y = to_categorical(Y)\n",
    "#標準化\n",
    "X -= X.mean(axis=0)\n",
    "X /= X.std(axis=0)"
   ]
  },
  {
   "cell_type": "code",
   "execution_count": 4,
   "metadata": {},
   "outputs": [],
   "source": [
    "X_train, Y_train = X[:690], Y[:690]\n",
    "X_test, Y_test = X[690:], Y[690:]"
   ]
  },
  {
   "cell_type": "code",
   "execution_count": 16,
   "metadata": {},
   "outputs": [],
   "source": [
    "model = Sequential()\n",
    "model.add(Dense(8, input_shape=(8,), activation=\"relu\"))\n",
    "model.add(Dense(8, activation=\"relu\"))\n",
    "model.add(Dense(1, activation=\"sigmoid\"))\n",
    "#kernel_initializer=\"random_uniform\", \n",
    "#bias_initializer=\"ones\","
   ]
  },
  {
   "cell_type": "code",
   "execution_count": 17,
   "metadata": {},
   "outputs": [
    {
     "name": "stdout",
     "output_type": "stream",
     "text": [
      "Train on 690 samples, validate on 78 samples\n",
      "Epoch 1/14\n",
      "690/690 [==============================] - 1s 2ms/step - loss: 0.6920 - acc: 0.6304 - val_loss: 0.6874 - val_acc: 0.6154\n",
      "Epoch 2/14\n",
      "690/690 [==============================] - 0s 545us/step - loss: 0.6614 - acc: 0.6710 - val_loss: 0.6639 - val_acc: 0.6538\n",
      "Epoch 3/14\n",
      "690/690 [==============================] - 0s 575us/step - loss: 0.6316 - acc: 0.6884 - val_loss: 0.6412 - val_acc: 0.6667\n",
      "Epoch 4/14\n",
      "690/690 [==============================] - 0s 489us/step - loss: 0.5988 - acc: 0.7043 - val_loss: 0.6225 - val_acc: 0.6795\n",
      "Epoch 5/14\n",
      "690/690 [==============================] - 0s 567us/step - loss: 0.5670 - acc: 0.7261 - val_loss: 0.6063 - val_acc: 0.7179\n",
      "Epoch 6/14\n",
      "690/690 [==============================] - 0s 484us/step - loss: 0.5393 - acc: 0.7551 - val_loss: 0.5924 - val_acc: 0.7308\n",
      "Epoch 7/14\n",
      "690/690 [==============================] - 0s 382us/step - loss: 0.5180 - acc: 0.7652 - val_loss: 0.5820 - val_acc: 0.7692\n",
      "Epoch 8/14\n",
      "690/690 [==============================] - 0s 593us/step - loss: 0.5027 - acc: 0.7725 - val_loss: 0.5743 - val_acc: 0.7692\n",
      "Epoch 9/14\n",
      "690/690 [==============================] - 0s 419us/step - loss: 0.4925 - acc: 0.7783 - val_loss: 0.5686 - val_acc: 0.7821\n",
      "Epoch 10/14\n",
      "690/690 [==============================] - 0s 379us/step - loss: 0.4847 - acc: 0.7826 - val_loss: 0.5633 - val_acc: 0.7692\n",
      "Epoch 11/14\n",
      "690/690 [==============================] - 0s 426us/step - loss: 0.4787 - acc: 0.7826 - val_loss: 0.5610 - val_acc: 0.7692\n",
      "Epoch 12/14\n",
      "690/690 [==============================] - 0s 463us/step - loss: 0.4746 - acc: 0.7812 - val_loss: 0.5571 - val_acc: 0.7692\n",
      "Epoch 13/14\n",
      "690/690 [==============================] - 0s 396us/step - loss: 0.4712 - acc: 0.7826 - val_loss: 0.5562 - val_acc: 0.7692\n",
      "Epoch 14/14\n",
      "690/690 [==============================] - 0s 428us/step - loss: 0.4688 - acc: 0.7870 - val_loss: 0.5524 - val_acc: 0.7692\n"
     ]
    }
   ],
   "source": [
    "model.compile(loss=\"binary_crossentropy\", optimizer=\"adam\", \n",
    "              metrics=[\"accuracy\"])\n",
    "\n",
    "history = model.fit(X_train, Y_train, validation_data=(X_test, Y_test), \n",
    "          epochs=14, batch_size=10)"
   ]
  },
  {
   "cell_type": "code",
   "execution_count": 18,
   "metadata": {},
   "outputs": [
    {
     "name": "stdout",
     "output_type": "stream",
     "text": [
      "train accuracy 0.7826086949611055\n",
      "test accuracy 0.7692307661741208\n",
      "[[0]\n",
      " [1]\n",
      " [0]\n",
      " [1]\n",
      " [0]\n",
      " [0]\n",
      " [0]\n",
      " [1]\n",
      " [0]\n",
      " [1]\n",
      " [1]\n",
      " [1]\n",
      " [0]\n",
      " [0]\n",
      " [0]\n",
      " [0]\n",
      " [1]\n",
      " [0]\n",
      " [0]\n",
      " [0]\n",
      " [0]\n",
      " [0]\n",
      " [0]\n",
      " [0]\n",
      " [0]\n",
      " [0]\n",
      " [0]\n",
      " [0]\n",
      " [0]\n",
      " [1]\n",
      " [0]\n",
      " [0]\n",
      " [0]\n",
      " [0]\n",
      " [1]\n",
      " [0]\n",
      " [0]\n",
      " [0]\n",
      " [0]\n",
      " [1]\n",
      " [0]\n",
      " [0]\n",
      " [0]\n",
      " [1]\n",
      " [1]\n",
      " [0]\n",
      " [0]\n",
      " [1]\n",
      " [1]\n",
      " [1]\n",
      " [0]\n",
      " [1]\n",
      " [0]\n",
      " [0]\n",
      " [1]\n",
      " [0]\n",
      " [1]\n",
      " [1]\n",
      " [0]\n",
      " [1]\n",
      " [0]\n",
      " [0]\n",
      " [0]\n",
      " [0]\n",
      " [1]\n",
      " [0]\n",
      " [0]\n",
      " [0]\n",
      " [1]\n",
      " [0]\n",
      " [0]\n",
      " [0]\n",
      " [0]\n",
      " [0]\n",
      " [0]\n",
      " [0]\n",
      " [0]\n",
      " [0]]\n"
     ]
    }
   ],
   "source": [
    "loss, accuracy = model.evaluate(X_train, Y_train, verbose=0)\n",
    "print(\"train accuracy\",accuracy)\n",
    "loss, accuracy = model.evaluate(X_test, Y_test, verbose=0)\n",
    "print(\"test accuracy\",accuracy)\n",
    "# 測試資料集的預測值\n",
    "Y_pred = model.predict_classes(X_test, batch_size=10, verbose=0)\n",
    "print(Y_pred)"
   ]
  },
  {
   "cell_type": "code",
   "execution_count": 19,
   "metadata": {},
   "outputs": [
    {
     "data": {
      "image/png": "[encoded data removed]",
      "text/plain": [
       "<Figure size 432x288 with 1 Axes>"
      ]
     },
     "metadata": {},
     "output_type": "display_data"
    }
   ],
   "source": [
    "import matplotlib.pyplot as plt\n",
    "\n",
    "loss = history.history[\"loss\"]\n",
    "epochs = range(1, len(loss)+1)\n",
    "val_loss = history.history[\"val_loss\"]\n",
    "plt.plot(epochs, loss, \"bo\", label=\"Training Loss\")\n",
    "plt.plot(epochs, val_loss, \"r\", label=\"Validation Loss\")\n",
    "plt.title(\"Training and Validation Loss\")\n",
    "plt.xlabel(\"Epochs\")\n",
    "plt.ylabel(\"Loss\")\n",
    "plt.legend()\n",
    "plt.show()"
   ]
  },
  {
   "cell_type": "code",
   "execution_count": 20,
   "metadata": {},
   "outputs": [
    {
     "data": {
      "image/png": "[encoded data removed]",
      "text/plain": [
       "<Figure size 432x288 with 1 Axes>"
      ]
     },
     "metadata": {},
     "output_type": "display_data"
    }
   ],
   "source": [
    "acc = history.history[\"acc\"]\n",
    "epochs = range(1, len(acc)+1)\n",
    "val_acc = history.history[\"val_acc\"]\n",
    "plt.plot(epochs, acc, \"b-\", label=\"Training Acc\")\n",
    "plt.plot(epochs, val_acc, \"r--\", label=\"Validation Acc\")\n",
    "plt.title(\"Training and Validation Accuracy\")\n",
    "plt.xlabel(\"Epochs\")\n",
    "plt.ylabel(\"Accuracy\")\n",
    "plt.legend()\n",
    "plt.show()"
   ]
  }
 ],
 "metadata": {
  "kernelspec": {
   "display_name": "tensorflow",
   "language": "python",
   "name": "tf"
  },
  "language_info": {
   "codemirror_mode": {
    "name": "ipython",
    "version": 3
   },
   "file_extension": ".py",
   "mimetype": "text/x-python",
   "name": "python",
   "nbconvert_exporter": "python",
   "pygments_lexer": "ipython3",
   "version": "3.5.5"
  }
 },
 "nbformat": 4,
 "nbformat_minor": 2
}
