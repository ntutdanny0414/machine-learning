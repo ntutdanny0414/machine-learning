{
 "cells": [
  {
   "cell_type": "code",
   "execution_count": 1,
   "metadata": {},
   "outputs": [],
   "source": [
    "import numpy as np\n",
    "import pandas as pd\n",
    "from tensorflow.keras.models import Sequential\n",
    "from tensorflow.keras.layers import Dense"
   ]
  },
  {
   "cell_type": "code",
   "execution_count": 2,
   "metadata": {},
   "outputs": [],
   "source": [
    "np.random.seed(7)\n",
    "\n",
    "df = pd.read_csv(\"./boston_housing.csv\")\n",
    "dataset = df.values\n",
    "np.random.shuffle(dataset)"
   ]
  },
  {
   "cell_type": "code",
   "execution_count": 3,
   "metadata": {},
   "outputs": [],
   "source": [
    "X = dataset[:, 0:13]\n",
    "Y = dataset[:, 13]\n",
    "#標準化\n",
    "X -= X.mean(axis=0)\n",
    "X /= X.std(axis=0)\n",
    "\n",
    "X_train, Y_train = X[:404], Y[:404] \n",
    "X_test, Y_test = X[404:], Y[404:]  "
   ]
  },
  {
   "cell_type": "code",
   "execution_count": 4,
   "metadata": {},
   "outputs": [],
   "source": [
    "def build_deep_model():\n",
    "    model = Sequential()\n",
    "    model.add(Dense(32, input_shape=(X_train.shape[1],), activation=\"relu\"))\n",
    "    model.add(Dense(16, activation=\"relu\"))\n",
    "    model.add(Dense(1))\n",
    "    model.compile(loss=\"mse\", optimizer=\"adam\", \n",
    "                  metrics=[\"mae\"])\n",
    "    return model"
   ]
  },
  {
   "cell_type": "code",
   "execution_count": 5,
   "metadata": {},
   "outputs": [],
   "source": [
    "#kfold\n",
    "k = 4\n",
    "nb_val_samples = len(X_train) // k\n",
    "nb_epochs = 80\n",
    "mse_scores = []\n",
    "mae_scores = []"
   ]
  },
  {
   "cell_type": "code",
   "execution_count": 6,
   "metadata": {},
   "outputs": [],
   "source": [
    "for i in range(k):\n",
    "    X_val = X_train[i*nb_val_samples: (i+1)*nb_val_samples]\n",
    "    Y_val = Y_train[i*nb_val_samples: (i+1)*nb_val_samples]\n",
    "\n",
    "    X_train_p = np.concatenate(\n",
    "            [X_train[:i*nb_val_samples],\n",
    "            X_train[(i+1)*nb_val_samples:]], axis=0)\n",
    "    Y_train_p = np.concatenate(\n",
    "            [Y_train[:i*nb_val_samples],\n",
    "            Y_train[(i+1)*nb_val_samples:]], axis=0)\n",
    "    model = build_deep_model()\n",
    "\n",
    "    model.fit(X_train_p, Y_train_p, epochs=nb_epochs, \n",
    "              batch_size=16, verbose=0)\n",
    "\n",
    "    mse, mae = model.evaluate(X_val, Y_val, verbose=0)\n",
    "    mse_scores.append(mse)\n",
    "    mae_scores.append(mae)"
   ]
  },
  {
   "cell_type": "code",
   "execution_count": 7,
   "metadata": {},
   "outputs": [
    {
     "name": "stdout",
     "output_type": "stream",
     "text": [
      "MSE_val:  18.889856338500977\n",
      "MAE_val:  2.842442919712256\n",
      "MSE_test:  8.588650048947802\n",
      "MAE_test:  2.2924087561813056\n"
     ]
    }
   ],
   "source": [
    "print(\"MSE_val: \", np.mean(mse_scores))\n",
    "print(\"MAE_val: \", np.mean(mae_scores))\n",
    "\n",
    "mse, mae = model.evaluate(X_test, Y_test, verbose=0)    \n",
    "print(\"MSE_test: \", mse)\n",
    "print(\"MAE_test: \", mae)"
   ]
  },
  {
   "cell_type": "markdown",
   "metadata": {},
   "source": [
    "#### save model note"
   ]
  },
  {
   "cell_type": "code",
   "execution_count": null,
   "metadata": {},
   "outputs": [],
   "source": [
    "'''\n",
    "# 儲存模型結構\n",
    "json_str = model.to_json()\n",
    "with open(\"Modelname.config\", \"w\") as text_file:\n",
    "    text_file.write(json_str)\n",
    "# 儲存模型權重\n",
    "model.save_weights(\"Modelname.weight\")\n",
    "'''\n",
    "'''\n",
    "# 儲存模型結構和權重way2\n",
    "model.save(\"modelname.h5\")\n",
    "'''"
   ]
  },
  {
   "cell_type": "code",
   "execution_count": null,
   "metadata": {},
   "outputs": [],
   "source": [
    "'''\n",
    "# 載入模型結構\n",
    "from tensorflow.keras.models import model_from_json\n",
    "\n",
    "model = Sequential()\n",
    "with open(\"Modelname.config\", \"r\") as text_file:\n",
    "    json_str = text_file.read()\n",
    "model = model_from_json(json_str)\n",
    "# 載入權重\n",
    "model.load_weights(\"Modelname.weight\", by_name=False)\n",
    "# 編譯模型\n",
    "model.compile(loss=\"binary_crossentropy\", optimizer=\"adam\", \n",
    "              metrics=[\"accuracy\"])\n",
    "#use\n",
    "'''\n",
    "'''\n",
    "# 載入模型way2\n",
    "from tensorflow.keras.models import load_model\n",
    "\n",
    "model = Sequential()\n",
    "model = load_model(\"Modelname.h5\")\n",
    "# 編譯模型\n",
    "model.compile(loss=\"binary_crossentropy\", optimizer=\"adam\", \n",
    "              metrics=[\"accuracy\"])\n",
    "'''"
   ]
  }
 ],
 "metadata": {
  "kernelspec": {
   "display_name": "tensorflow",
   "language": "python",
   "name": "tf"
  },
  "language_info": {
   "codemirror_mode": {
    "name": "ipython",
    "version": 3
   },
   "file_extension": ".py",
   "mimetype": "text/x-python",
   "name": "python",
   "nbconvert_exporter": "python",
   "pygments_lexer": "ipython3",
   "version": "3.5.5"
  }
 },
 "nbformat": 4,
 "nbformat_minor": 2
}
