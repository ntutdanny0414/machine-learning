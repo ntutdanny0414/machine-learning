{
 "cells": [
  {
   "cell_type": "code",
   "execution_count": 0,
   "metadata": {
    "colab": {},
    "colab_type": "code",
    "id": "Vtt5a8DCVBF2"
   },
   "outputs": [],
   "source": [
    "import numpy as np\n",
    "from tensorflow.keras import models\n",
    "from tensorflow.keras import layers\n",
    "from tensorflow.keras.utils import to_categorical"
   ]
  },
  {
   "cell_type": "code",
   "execution_count": 6,
   "metadata": {
    "colab": {
     "base_uri": "https://localhost:8080/",
     "height": 34
    },
    "colab_type": "code",
    "executionInfo": {
     "elapsed": 1449,
     "status": "ok",
     "timestamp": 1586273653294,
     "user": {
      "displayName": "廖勗宏",
      "photoUrl": "",
      "userId": "15069428131443427581"
     },
     "user_tz": -480
    },
    "id": "rYga-CGtVcHv",
    "outputId": "2f422e66-8e92-4617-befe-ee2b6298f3d6"
   },
   "outputs": [
    {
     "name": "stdout",
     "output_type": "stream",
     "text": [
      "Drive already mounted at /content/drive; to attempt to forcibly remount, call drive.mount(\"/content/drive\", force_remount=True).\n"
     ]
    }
   ],
   "source": [
    "from google.colab import drive\n",
    "drive.mount('/content/drive')"
   ]
  },
  {
   "cell_type": "code",
   "execution_count": 0,
   "metadata": {
    "colab": {},
    "colab_type": "code",
    "id": "MZDNi9HVWCWv"
   },
   "outputs": [],
   "source": [
    "DATA_DIR = '/content/drive/My Drive/Colab Notebooks/'\n",
    "TRAIN_DATA_FILE = DATA_DIR + 'emnist-byclass-train.npz'\n",
    "TEST_DATA_FILE = DATA_DIR + 'emnist-byclass-test.npz'"
   ]
  },
  {
   "cell_type": "code",
   "execution_count": 0,
   "metadata": {
    "colab": {},
    "colab_type": "code",
    "id": "xqFGb55iWjjC"
   },
   "outputs": [],
   "source": [
    "# Load training data\n",
    "data = np.load(TRAIN_DATA_FILE)\n",
    "train_labels = data['training_labels']\n",
    "train_images = data['training_images']"
   ]
  },
  {
   "cell_type": "code",
   "execution_count": 0,
   "metadata": {
    "colab": {},
    "colab_type": "code",
    "id": "aKcH1KPcZK3N"
   },
   "outputs": [],
   "source": [
    "trn_images = train_images.reshape((train_images.shape[0], 28 , 28))"
   ]
  },
  {
   "cell_type": "code",
   "execution_count": 0,
   "metadata": {
    "colab": {},
    "colab_type": "code",
    "id": "leTMPtwg1U_B"
   },
   "outputs": [],
   "source": [
    "trn_images = trn_images.astype('float32') / 255\n",
    "trn_images = trn_images.reshape(-1, 28, 28, 1)\n",
    "trn_labels = to_categorical(train_labels)"
   ]
  },
  {
   "cell_type": "code",
   "execution_count": 0,
   "metadata": {
    "colab": {},
    "colab_type": "code",
    "id": "KK31EJMNZRqQ"
   },
   "outputs": [],
   "source": [
    "# Define Your Own Network\n",
    "network = models.Sequential()\n",
    "network.add(layers.Conv2D(filters=256, kernel_size=(5,5), padding = 'same', activation='relu',input_shape=(28, 28,1)))\n",
    "network.add(layers.MaxPooling2D(pool_size=(2,2), strides=(2,2)))\n",
    "network.add(layers.Conv2D(filters=128, kernel_size=(3,3) , padding = 'same', activation='relu'))\n",
    "network.add(layers.MaxPooling2D(pool_size=(2,2)))\n",
    "\n",
    "network.add(layers.Flatten())\n",
    "network.add(layers.Dense(units=256, activation='relu'))\n",
    "network.add(layers.Dropout(.5))\n",
    "network.add(layers.Dense(units=62, activation='softmax'))\n",
    "\n",
    "network.compile(optimizer='adam', loss='categorical_crossentropy', metrics=['accuracy'])"
   ]
  },
  {
   "cell_type": "code",
   "execution_count": 15,
   "metadata": {
    "colab": {
     "base_uri": "https://localhost:8080/",
     "height": 1000
    },
    "colab_type": "code",
    "executionInfo": {
     "elapsed": 4556512,
     "status": "ok",
     "timestamp": 1586278722880,
     "user": {
      "displayName": "廖勗宏",
      "photoUrl": "",
      "userId": "15069428131443427581"
     },
     "user_tz": -480
    },
    "id": "zCZqFujHZVCG",
    "outputId": "938255b8-ee62-4e58-c225-3478b8a160ff"
   },
   "outputs": [
    {
     "name": "stdout",
     "output_type": "stream",
     "text": [
      "Epoch 1/30\n",
      "1364/1364 [==============================] - 153s 112ms/step - loss: 1.0525 - accuracy: 0.6871\n",
      "Epoch 2/30\n",
      "1364/1364 [==============================] - 152s 112ms/step - loss: 0.7053 - accuracy: 0.7740\n",
      "Epoch 3/30\n",
      "1364/1364 [==============================] - 152s 112ms/step - loss: 0.6327 - accuracy: 0.7938\n",
      "Epoch 4/30\n",
      "1364/1364 [==============================] - 152s 112ms/step - loss: 0.5935 - accuracy: 0.8047\n",
      "Epoch 5/30\n",
      "1364/1364 [==============================] - 152s 111ms/step - loss: 0.5649 - accuracy: 0.8128\n",
      "Epoch 6/30\n",
      "1364/1364 [==============================] - 152s 111ms/step - loss: 0.5423 - accuracy: 0.8187\n",
      "Epoch 7/30\n",
      "1364/1364 [==============================] - 152s 111ms/step - loss: 0.5246 - accuracy: 0.8231\n",
      "Epoch 8/30\n",
      "1364/1364 [==============================] - 152s 111ms/step - loss: 0.5107 - accuracy: 0.8274\n",
      "Epoch 9/30\n",
      "1364/1364 [==============================] - 152s 111ms/step - loss: 0.4990 - accuracy: 0.8307\n",
      "Epoch 10/30\n",
      "1364/1364 [==============================] - 152s 111ms/step - loss: 0.4889 - accuracy: 0.8327\n",
      "Epoch 11/30\n",
      "1364/1364 [==============================] - 152s 111ms/step - loss: 0.4791 - accuracy: 0.8356\n",
      "Epoch 12/30\n",
      "1364/1364 [==============================] - 152s 111ms/step - loss: 0.4713 - accuracy: 0.8378\n",
      "Epoch 13/30\n",
      "1364/1364 [==============================] - 152s 111ms/step - loss: 0.4654 - accuracy: 0.8394\n",
      "Epoch 14/30\n",
      "1364/1364 [==============================] - 152s 111ms/step - loss: 0.4587 - accuracy: 0.8410\n",
      "Epoch 15/30\n",
      "1364/1364 [==============================] - 152s 111ms/step - loss: 0.4518 - accuracy: 0.8430\n",
      "Epoch 16/30\n",
      "1364/1364 [==============================] - 152s 111ms/step - loss: 0.4470 - accuracy: 0.8441\n",
      "Epoch 17/30\n",
      "1364/1364 [==============================] - 152s 111ms/step - loss: 0.4413 - accuracy: 0.8457\n",
      "Epoch 18/30\n",
      "1364/1364 [==============================] - 152s 111ms/step - loss: 0.4372 - accuracy: 0.8467\n",
      "Epoch 19/30\n",
      "1364/1364 [==============================] - 152s 111ms/step - loss: 0.4325 - accuracy: 0.8479\n",
      "Epoch 20/30\n",
      "1364/1364 [==============================] - 152s 111ms/step - loss: 0.4297 - accuracy: 0.8490\n",
      "Epoch 21/30\n",
      "1364/1364 [==============================] - 152s 111ms/step - loss: 0.4258 - accuracy: 0.8496\n",
      "Epoch 22/30\n",
      "1364/1364 [==============================] - 152s 111ms/step - loss: 0.4229 - accuracy: 0.8503\n",
      "Epoch 23/30\n",
      "1364/1364 [==============================] - 152s 111ms/step - loss: 0.4203 - accuracy: 0.8512\n",
      "Epoch 24/30\n",
      "1364/1364 [==============================] - 152s 111ms/step - loss: 0.4175 - accuracy: 0.8518\n",
      "Epoch 25/30\n",
      "1364/1364 [==============================] - 152s 111ms/step - loss: 0.4141 - accuracy: 0.8528\n",
      "Epoch 26/30\n",
      "1364/1364 [==============================] - 151s 111ms/step - loss: 0.4122 - accuracy: 0.8531\n",
      "Epoch 27/30\n",
      "1364/1364 [==============================] - 151s 111ms/step - loss: 0.4099 - accuracy: 0.8534\n",
      "Epoch 28/30\n",
      "1364/1364 [==============================] - 151s 111ms/step - loss: 0.4073 - accuracy: 0.8544\n",
      "Epoch 29/30\n",
      "1364/1364 [==============================] - 151s 110ms/step - loss: 0.4054 - accuracy: 0.8551\n",
      "Epoch 30/30\n",
      "1364/1364 [==============================] - 151s 111ms/step - loss: 0.4026 - accuracy: 0.8557\n"
     ]
    }
   ],
   "source": [
    "history = network.fit(trn_images, trn_labels, epochs=30, batch_size=512)"
   ]
  },
  {
   "cell_type": "code",
   "execution_count": 23,
   "metadata": {
    "colab": {
     "base_uri": "https://localhost:8080/",
     "height": 202
    },
    "colab_type": "code",
    "executionInfo": {
     "elapsed": 755490,
     "status": "ok",
     "timestamp": 1586280168985,
     "user": {
      "displayName": "廖勗宏",
      "photoUrl": "",
      "userId": "15069428131443427581"
     },
     "user_tz": -480
    },
    "id": "nIxldVWYnrNi",
    "outputId": "8e337940-5c83-4949-c66a-78f94a9fdfa7"
   },
   "outputs": [
    {
     "name": "stdout",
     "output_type": "stream",
     "text": [
      "Epoch 1/5\n",
      "1364/1364 [==============================] - 151s 111ms/step - loss: 0.4017 - accuracy: 0.8555\n",
      "Epoch 2/5\n",
      "1364/1364 [==============================] - 151s 111ms/step - loss: 0.3998 - accuracy: 0.8564\n",
      "Epoch 3/5\n",
      "1364/1364 [==============================] - 151s 110ms/step - loss: 0.3982 - accuracy: 0.8566\n",
      "Epoch 4/5\n",
      "1364/1364 [==============================] - 150s 110ms/step - loss: 0.3958 - accuracy: 0.8575\n",
      "Epoch 5/5\n",
      "1364/1364 [==============================] - 150s 110ms/step - loss: 0.3957 - accuracy: 0.8574\n"
     ]
    },
    {
     "data": {
      "text/plain": [
       "<tensorflow.python.keras.callbacks.History at 0x7f625472a7b8>"
      ]
     },
     "execution_count": 23,
     "metadata": {
      "tags": []
     },
     "output_type": "execute_result"
    }
   ],
   "source": [
    "network.fit(trn_images, trn_labels, epochs=5, batch_size=512)"
   ]
  },
  {
   "cell_type": "code",
   "execution_count": 16,
   "metadata": {
    "colab": {
     "base_uri": "https://localhost:8080/",
     "height": 265
    },
    "colab_type": "code",
    "executionInfo": {
     "elapsed": 1405,
     "status": "ok",
     "timestamp": 1586278759532,
     "user": {
      "displayName": "廖勗宏",
      "photoUrl": "",
      "userId": "15069428131443427581"
     },
     "user_tz": -480
    },
    "id": "Hzx_D-XP2YuP",
    "outputId": "dad71750-68b6-48ad-97ce-981068e673de"
   },
   "outputs": [
    {
     "data": {
      "image/png": "[encoded data removed]",
      "text/plain": [
       "<Figure size 432x288 with 1 Axes>"
      ]
     },
     "metadata": {
      "tags": []
     },
     "output_type": "display_data"
    }
   ],
   "source": [
    "from matplotlib import pyplot\n",
    "%matplotlib inline\n",
    "# plot history\n",
    "pyplot.plot(history.history['loss'], label='train')\n",
    "pyplot.legend()\n",
    "pyplot.show()"
   ]
  },
  {
   "cell_type": "code",
   "execution_count": 0,
   "metadata": {
    "colab": {},
    "colab_type": "code",
    "id": "1k5rCmCJ0w1I"
   },
   "outputs": [],
   "source": [
    "# test data\n",
    "test_images = np.load(TEST_DATA_FILE)['testing_images']"
   ]
  },
  {
   "cell_type": "code",
   "execution_count": 0,
   "metadata": {
    "colab": {},
    "colab_type": "code",
    "id": "ru3eLMy3rISM"
   },
   "outputs": [],
   "source": [
    "tst_images = test_images.reshape((test_images.shape[0], 28 , 28))"
   ]
  },
  {
   "cell_type": "code",
   "execution_count": 0,
   "metadata": {
    "colab": {},
    "colab_type": "code",
    "id": "kE_YcHJd1AGJ"
   },
   "outputs": [],
   "source": [
    "tst_images = tst_images.astype('float32') / 255\n",
    "tst_images = tst_images.reshape(-1, 28, 28, 1)"
   ]
  },
  {
   "cell_type": "code",
   "execution_count": 24,
   "metadata": {
    "colab": {
     "base_uri": "https://localhost:8080/",
     "height": 34
    },
    "colab_type": "code",
    "executionInfo": {
     "elapsed": 15341,
     "status": "ok",
     "timestamp": 1586280259900,
     "user": {
      "displayName": "廖勗宏",
      "photoUrl": "",
      "userId": "15069428131443427581"
     },
     "user_tz": -480
    },
    "id": "Cn8P3QCX1DWx",
    "outputId": "1732e6b9-5241-45e9-aecd-108a952c9074"
   },
   "outputs": [
    {
     "data": {
      "text/plain": [
       "array([ 1, 36,  0, ..., 55, 28, 24])"
      ]
     },
     "execution_count": 24,
     "metadata": {
      "tags": []
     },
     "output_type": "execute_result"
    }
   ],
   "source": [
    "results = network.predict_classes(tst_images)\n",
    "results"
   ]
  },
  {
   "cell_type": "code",
   "execution_count": 0,
   "metadata": {
    "colab": {},
    "colab_type": "code",
    "id": "DU8mmrtC1Jy1"
   },
   "outputs": [],
   "source": [
    "# Print results in CSV format and upload to Kaggle\n",
    "with open('pred_results.csv', 'w') as f:\n",
    "    f.write('Id,Category\\n')\n",
    "    for i in range(len(results)):\n",
    "        f.write(str(i) + ',' + str(results[i]) + '\\n')"
   ]
  },
  {
   "cell_type": "code",
   "execution_count": 0,
   "metadata": {
    "colab": {},
    "colab_type": "code",
    "id": "Xx6AnZKa1Mbp"
   },
   "outputs": [],
   "source": [
    "from google.colab import files\n",
    "files.download('pred_results.csv') "
   ]
  }
 ],
 "metadata": {
  "accelerator": "GPU",
  "colab": {
   "authorship_tag": "ABX9TyPjJH1pGpwoe7qbrAg+8gYv",
   "collapsed_sections": [],
   "name": "DLHW1.ipynb",
   "provenance": []
  },
  "kernelspec": {
   "display_name": "Python 3",
   "language": "python",
   "name": "python3"
  },
  "language_info": {
   "codemirror_mode": {
    "name": "ipython",
    "version": 3
   },
   "file_extension": ".py",
   "mimetype": "text/x-python",
   "name": "python",
   "nbconvert_exporter": "python",
   "pygments_lexer": "ipython3",
   "version": "3.5.5"
  }
 },
 "nbformat": 4,
 "nbformat_minor": 1
}
