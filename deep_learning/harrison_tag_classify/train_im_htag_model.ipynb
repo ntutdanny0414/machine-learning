{
 "cells": [
  {
   "cell_type": "code",
   "execution_count": 1,
   "metadata": {
    "scrolled": true
   },
   "outputs": [
    {
     "name": "stderr",
     "output_type": "stream",
     "text": [
      "Using TensorFlow backend.\n"
     ]
    }
   ],
   "source": [
    "import sys\n",
    "#sys.path.append(data_folder) # For importing utiliy.py\n",
    "\n",
    "import keras\n",
    "import numpy as np\n",
    "from utility import *\n",
    "\n",
    "from keras import models, layers, Model"
   ]
  },
  {
   "cell_type": "code",
   "execution_count": 2,
   "metadata": {},
   "outputs": [],
   "source": [
    "embedding_size = 64\n",
    "TAG2VEC_FILE = 'tag_list_word2vec_' + str(embedding_size) + '.npz'\n",
    "IMAGE_FEAT_FILE = 'harrison_features.npz'\n",
    "MODEL_NAME = 'im_hashtag_model.h5'"
   ]
  },
  {
   "cell_type": "code",
   "execution_count": 3,
   "metadata": {},
   "outputs": [],
   "source": [
    "# Load Hashtag-to-Vector file\n",
    "from packaging import version\n",
    "t2v_data = None\n",
    "if version.parse(np.__version__) > version.parse(\"1.16.2\"):\n",
    "    t2v_data = np.load(TAG2VEC_FILE, allow_pickle=True) # word_count, dictionary, reverse_dictionary, word_embeddings\n",
    "else:\n",
    "    t2v_data = np.load(TAG2VEC_FILE) # word_count, dictionary, reverse_dictionary, word_embeddings\n",
    "    \n",
    "tag_dictionary = t2v_data['dictionary'].tolist()\n",
    "tag_reverse_dict = t2v_data['reverse_dictionary'].tolist()\n",
    "tag_embeddings = t2v_data['word_embeddings']"
   ]
  },
  {
   "cell_type": "code",
   "execution_count": 4,
   "metadata": {},
   "outputs": [],
   "source": [
    "# Load ImageNet features\n",
    "feat_data = np.load(IMAGE_FEAT_FILE)\n",
    "imnet_fc_feats = feat_data['imagenet_fc_layers']\n",
    "place_fc_feats = feat_data['places365_fc_layers']\n",
    "image_list = feat_data['image_list']\n",
    "tag_strings = feat_data['hashtag_list']\n",
    "train_indices = feat_data['train_indices']\n",
    "test_indices = feat_data['test_indices']"
   ]
  },
  {
   "cell_type": "code",
   "execution_count": 5,
   "metadata": {},
   "outputs": [],
   "source": [
    "# Get HARRISON labels\n",
    "labels = img_paths_to_labels(image_list)\n",
    "\n",
    "# Get word vector of each image\n",
    "image_t2v = []\n",
    "for label in labels:\n",
    "    if label in tag_dictionary:\n",
    "        tagID = tag_dictionary[label]\n",
    "        image_t2v.append(tag_embeddings[tagID])\n",
    "    else:\n",
    "        print(label, \"doesn't exist!\")\n",
    "\n",
    "image_t2v_mat = np.array(image_t2v)"
   ]
  },
  {
   "cell_type": "code",
   "execution_count": 6,
   "metadata": {},
   "outputs": [],
   "source": [
    "# Split data into train/test set\n",
    "train_x = imnet_fc_feats[train_indices, :]\n",
    "test_x = imnet_fc_feats[test_indices, :]\n",
    "train_y = image_t2v_mat[train_indices, :]\n",
    "test_y = image_t2v_mat[test_indices, :]"
   ]
  },
  {
   "cell_type": "code",
   "execution_count": 7,
   "metadata": {},
   "outputs": [],
   "source": [
    "train_x = train_x.reshape((train_x.shape[0], 1, train_x.shape[1]))\n",
    "test_x = test_x.reshape((test_x.shape[0], 1, test_x.shape[1]))"
   ]
  },
  {
   "cell_type": "code",
   "execution_count": 8,
   "metadata": {},
   "outputs": [],
   "source": [
    "model = models.Sequential()\n",
    "model.add(layers.Conv1D(128,kernel_size= 1,input_shape=(train_x.shape[1], train_x.shape[2])))\n",
    "model.add(layers.BatchNormalization())\n",
    "model.add(layers.Dropout(0.3))\n",
    "model.add(layers.LSTM(64))\n",
    "model.add(layers.Dropout(0.3))\n",
    "model.add(layers.Dense(64, activation='relu' ))\n",
    "model.add(layers.Dense(embedding_size))\n",
    "#-------------\n",
    "model.compile(optimizer='adam', loss='mse', metrics=['mae'])"
   ]
  },
  {
   "cell_type": "code",
   "execution_count": 9,
   "metadata": {
    "scrolled": true
   },
   "outputs": [
    {
     "name": "stdout",
     "output_type": "stream",
     "text": [
      "Epoch 1/20\n",
      "38255/38255 [==============================] - 49s 1ms/step - loss: 0.0153 - mean_absolute_error: 0.0976\n",
      "Epoch 2/20\n",
      "38255/38255 [==============================] - 3s 67us/step - loss: 0.0109 - mean_absolute_error: 0.0839\n",
      "Epoch 3/20\n",
      "38255/38255 [==============================] - 1s 36us/step - loss: 0.0104 - mean_absolute_error: 0.0817\n",
      "Epoch 4/20\n",
      "38255/38255 [==============================] - 1s 36us/step - loss: 0.0102 - mean_absolute_error: 0.0805\n",
      "Epoch 5/20\n",
      "38255/38255 [==============================] - 1s 35us/step - loss: 0.0100 - mean_absolute_error: 0.0797\n",
      "Epoch 6/20\n",
      "38255/38255 [==============================] - 1s 35us/step - loss: 0.0099 - mean_absolute_error: 0.0790\n",
      "Epoch 7/20\n",
      "38255/38255 [==============================] - 1s 36us/step - loss: 0.0098 - mean_absolute_error: 0.0784\n",
      "Epoch 8/20\n",
      "38255/38255 [==============================] - 1s 36us/step - loss: 0.0097 - mean_absolute_error: 0.0779\n",
      "Epoch 9/20\n",
      "38255/38255 [==============================] - 1s 35us/step - loss: 0.0096 - mean_absolute_error: 0.0773\n",
      "Epoch 10/20\n",
      "38255/38255 [==============================] - 1s 36us/step - loss: 0.0095 - mean_absolute_error: 0.0768\n",
      "Epoch 11/20\n",
      "38255/38255 [==============================] - 1s 35us/step - loss: 0.0094 - mean_absolute_error: 0.0764\n",
      "Epoch 12/20\n",
      "38255/38255 [==============================] - 1s 36us/step - loss: 0.0093 - mean_absolute_error: 0.0759\n",
      "Epoch 13/20\n",
      "38255/38255 [==============================] - 1s 36us/step - loss: 0.0093 - mean_absolute_error: 0.0756\n",
      "Epoch 14/20\n",
      "38255/38255 [==============================] - 1s 35us/step - loss: 0.0092 - mean_absolute_error: 0.0752\n",
      "Epoch 15/20\n",
      "38255/38255 [==============================] - 1s 36us/step - loss: 0.0092 - mean_absolute_error: 0.0750\n",
      "Epoch 16/20\n",
      "38255/38255 [==============================] - 1s 36us/step - loss: 0.0091 - mean_absolute_error: 0.0747\n",
      "Epoch 17/20\n",
      "38255/38255 [==============================] - 1s 35us/step - loss: 0.0091 - mean_absolute_error: 0.0744\n",
      "Epoch 18/20\n",
      "38255/38255 [==============================] - 1s 35us/step - loss: 0.0090 - mean_absolute_error: 0.0741\n",
      "Epoch 19/20\n",
      "38255/38255 [==============================] - 1s 35us/step - loss: 0.0090 - mean_absolute_error: 0.0738\n",
      "Epoch 20/20\n",
      "38255/38255 [==============================] - 1s 34us/step - loss: 0.0090 - mean_absolute_error: 0.0736\n"
     ]
    }
   ],
   "source": [
    "history = model.fit(train_x, train_y, epochs=20, batch_size=512, verbose=1)"
   ]
  },
  {
   "cell_type": "code",
   "execution_count": 10,
   "metadata": {},
   "outputs": [],
   "source": [
    "model.save_weights(MODEL_NAME)"
   ]
  },
  {
   "cell_type": "code",
   "execution_count": 10,
   "metadata": {},
   "outputs": [
    {
     "name": "stdout",
     "output_type": "stream",
     "text": [
      "19128/19128 [==============================] - 4s 217us/step\n"
     ]
    },
    {
     "data": {
      "text/plain": [
       "[0.009353713408410113, 0.07545456507436803]"
      ]
     },
     "execution_count": 10,
     "metadata": {},
     "output_type": "execute_result"
    }
   ],
   "source": [
    "#### Evaluate DeViSE Model ####\n",
    "model.evaluate(test_x, test_y)"
   ]
  },
  {
   "cell_type": "code",
   "execution_count": 11,
   "metadata": {},
   "outputs": [],
   "source": [
    "pred_y = model.predict(test_x)"
   ]
  },
  {
   "cell_type": "code",
   "execution_count": 12,
   "metadata": {},
   "outputs": [],
   "source": [
    "# Convert HARRISON tag ground-truth string into wordID\n",
    "tag_list, miss_tags = tag_string_to_w2v_id(tag_strings, tag_dictionary)\n",
    "test_tag_list = []\n",
    "for tid in test_indices:\n",
    "    test_tag_list.append(tag_list[tid])"
   ]
  },
  {
   "cell_type": "code",
   "execution_count": 13,
   "metadata": {},
   "outputs": [],
   "source": [
    "# Calculate K-Nearest Neighbor of predicted y (tag-vector)\n",
    "KNN = 10\n",
    "knn_list = []\n",
    "for pred in pred_y:\n",
    "    knn_list.append(get_knn(pred, tag_embeddings, KNN))"
   ]
  },
  {
   "cell_type": "code",
   "execution_count": 14,
   "metadata": {},
   "outputs": [
    {
     "name": "stdout",
     "output_type": "stream",
     "text": [
      "The recall rate of our model is 0.185057722632106\n"
     ]
    }
   ],
   "source": [
    "recall_rate, recall_list = cal_recall_rate(knn_list, test_tag_list)\n",
    "print('The recall rate of our model is', recall_rate)"
   ]
  },
  {
   "cell_type": "code",
   "execution_count": 15,
   "metadata": {
    "scrolled": true
   },
   "outputs": [],
   "source": [
    "test_labels = []\n",
    "for tid in test_indices:\n",
    "    #test_tag_list.append(tag_list[tid])\n",
    "    test_labels.append(labels[tid])\n",
    "    \n",
    "recall_rates, _ = cal_class_recall(test_labels, recall_list, test_tag_list)"
   ]
  },
  {
   "cell_type": "code",
   "execution_count": 16,
   "metadata": {},
   "outputs": [
    {
     "data": {
      "image/png": "[encoded data removed]",
      "text/plain": [
       "<Figure size 1080x2880 with 1 Axes>"
      ]
     },
     "metadata": {},
     "output_type": "display_data"
    }
   ],
   "source": [
    "%matplotlib inline\n",
    "from matplotlib import pyplot as plt\n",
    "import seaborn as sns\n",
    "\n",
    "plt.figure(figsize=(15,40))\n",
    "sns.set(style=\"whitegrid\")\n",
    "ax = sns.barplot(x=list(recall_rates.values()), y=list(recall_rates.keys()))"
   ]
  },
  {
   "cell_type": "markdown",
   "metadata": {},
   "source": [
    "### cal_hamming_loss"
   ]
  },
  {
   "cell_type": "code",
   "execution_count": 17,
   "metadata": {},
   "outputs": [
    {
     "name": "stdout",
     "output_type": "stream",
     "text": [
      "Hamming loss (lower is better): 0.814942277367894\n"
     ]
    }
   ],
   "source": [
    "loss, result_list = cal_hamming_loss(knn_list, test_tag_list)\n",
    "print('Hamming loss (lower is better): %s' % loss)"
   ]
  },
  {
   "cell_type": "code",
   "execution_count": 36,
   "metadata": {},
   "outputs": [],
   "source": [
    "save_kaggle_hamming_loss_csv('predict_4_kaggle.csv', result_list)"
   ]
  }
 ],
 "metadata": {
  "kernelspec": {
   "display_name": "Python 3",
   "language": "python",
   "name": "python3"
  },
  "language_info": {
   "codemirror_mode": {
    "name": "ipython",
    "version": 3
   },
   "file_extension": ".py",
   "mimetype": "text/x-python",
   "name": "python",
   "nbconvert_exporter": "python",
   "pygments_lexer": "ipython3",
   "version": "3.5.5"
  }
 },
 "nbformat": 4,
 "nbformat_minor": 1
}
