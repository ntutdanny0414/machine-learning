{
 "cells": [
  {
   "cell_type": "code",
   "execution_count": 1,
   "metadata": {},
   "outputs": [],
   "source": [
    "#載入資料\n",
    "import pandas as pd  \n",
    "import numpy as np  \n",
    "df = pd.read_csv('breast-cancer-wisconsin.csv')"
   ]
  },
  {
   "cell_type": "code",
   "execution_count": 2,
   "metadata": {},
   "outputs": [],
   "source": [
    "#fill ?\n",
    "df.replace('?',np.nan,inplace = True)\n",
    "df['Bare_Nuclei'] = pd.to_numeric(df['Bare_Nuclei'])\n",
    "for i in df.columns:\n",
    "    df[i].fillna(value=df.groupby('Class')[i].transform('mean'), inplace=True)"
   ]
  },
  {
   "cell_type": "code",
   "execution_count": 3,
   "metadata": {},
   "outputs": [],
   "source": [
    "from sklearn.model_selection import train_test_split\n",
    "#from sklearn.neighbors import KNeighborsClassifier"
   ]
  },
  {
   "cell_type": "code",
   "execution_count": 4,
   "metadata": {},
   "outputs": [],
   "source": [
    "#split data\n",
    "X = df.iloc[:,1:10]\n",
    "y = df.iloc[:,10].values"
   ]
  },
  {
   "cell_type": "code",
   "execution_count": 5,
   "metadata": {},
   "outputs": [],
   "source": [
    "#Accuracy\n",
    "def Accuracy(y_pred,y_test):\n",
    "    count = 0\n",
    "    for i in range(len(y_pred)):\n",
    "        if y_pred[i] == y_test[i]:\n",
    "            count = count + 1\n",
    "    return count / len(y_pred)"
   ]
  },
  {
   "cell_type": "code",
   "execution_count": 6,
   "metadata": {},
   "outputs": [],
   "source": [
    "#pca\n",
    "from numpy.linalg import eig\n",
    "def to_pca(X_train, X_test):\n",
    "    k0 = 1\n",
    "    x_mean = X_train.mean().values\n",
    "    C = X_train - x_mean\n",
    "    C_covariance = C.cov().values\n",
    "    eigenvalues, eigenvectors = eig(C_covariance)\n",
    "    for k in range(len(eigenvalues)):\n",
    "        if sum(eigenvalues[:k+1])/sum(eigenvalues) <= 0.9:\n",
    "            k0 = k0 + 1\n",
    "    C_test = X_test - x_mean\n",
    "    return C.dot(eigenvectors[:,:k0]),C_test.dot(eigenvectors[:,:k0])"
   ]
  },
  {
   "cell_type": "code",
   "execution_count": 7,
   "metadata": {},
   "outputs": [],
   "source": [
    "#5-nn手寫算法\n",
    "def knn_5(X_train,X_test,y_train):\n",
    "    pre = []\n",
    "    for i in X_test.values:\n",
    "        dist = []\n",
    "        for j in range(len(X_train)):\n",
    "            dist.append((np.linalg.norm(i-X_train.values[j]),y_train[j]))\n",
    "        sort_dist = sorted(dist, key=lambda x:x[0])\n",
    "        vote = []\n",
    "        for i in sort_dist[:5]:\n",
    "            vote.append(i[1])\n",
    "        pre.append(max(vote,key=vote.count))\n",
    "    return pre"
   ]
  },
  {
   "cell_type": "code",
   "execution_count": 9,
   "metadata": {},
   "outputs": [
    {
     "name": "stdout",
     "output_type": "stream",
     "text": [
      "Each accuracy no PCA: [0.9857142857142858, 0.9714285714285714, 0.9666666666666667, 0.9619047619047619, 0.9619047619047619, 0.9714285714285714, 0.9619047619047619, 0.9904761904761905, 0.9666666666666667, 0.9523809523809523]\n",
      "Each accuracy with PCA: [0.9714285714285714, 0.9809523809523809, 0.9809523809523809, 0.9619047619047619, 0.9571428571428572, 0.9666666666666667, 0.9666666666666667, 0.9904761904761905, 0.9714285714285714, 0.9619047619047619]\n",
      "Average accuracy no PCA: 0.9690476190476192\n",
      "Average accuracy with PCA: 0.9709523809523809\n"
     ]
    }
   ],
   "source": [
    "#train\n",
    "Accuracy_list_ori = []\n",
    "Accuracy_list_pca = []\n",
    "for i in range(10):\n",
    "    X_train, X_test, y_train, y_test = train_test_split(X, y, test_size = 0.30)#random split\n",
    "    #no PCA\n",
    "# 下3行套件測試用，因手寫算法執行時間有些久\n",
    "#    KNNclassifier = KNeighborsClassifier(n_neighbors=5,p = 2)#p=2 Euclidean\n",
    "#    KNNclassifier.fit(X_train, y_train)\n",
    "#    y_pred = KNNclassifier.predict(X_test)\n",
    "    #手寫算法\n",
    "    y_pred = knn_5(X_train,X_test,y_train)\n",
    "    Accuracy_list_ori.append(Accuracy(y_pred,y_test))\n",
    "\n",
    "    #PCA\n",
    "    pca_X_train,pca_X_test = to_pca(X_train, X_test)\n",
    "# 下3行套件測試用，因手寫算法執行時間有些久\n",
    "#    KNNclassifier_pca = KNeighborsClassifier(n_neighbors=5,p = 2)#p=2 Euclidean\n",
    "#    KNNclassifier_pca.fit(pca_X_train, y_train)\n",
    "#    pca_y_pred = KNNclassifier_pca.predict(pca_X_test)\n",
    "    #手寫算法\n",
    "    pca_y_pred = knn_5(pca_X_train,pca_X_test,y_train)\n",
    "    Accuracy_list_pca.append(Accuracy(pca_y_pred,y_test))\n",
    "print ('Each accuracy no PCA:', Accuracy_list_ori)\n",
    "print ('Each accuracy with PCA:', Accuracy_list_pca)\n",
    "print ('Average accuracy no PCA:', sum(Accuracy_list_ori) / 10)\n",
    "print ('Average accuracy with PCA:', sum(Accuracy_list_pca) / 10)\n",
    "#差不多準度"
   ]
  }
 ],
 "metadata": {
  "kernelspec": {
   "display_name": "tensorflow",
   "language": "python",
   "name": "tf"
  },
  "language_info": {
   "codemirror_mode": {
    "name": "ipython",
    "version": 3
   },
   "file_extension": ".py",
   "mimetype": "text/x-python",
   "name": "python",
   "nbconvert_exporter": "python",
   "pygments_lexer": "ipython3",
   "version": "3.5.5"
  }
 },
 "nbformat": 4,
 "nbformat_minor": 2
}
