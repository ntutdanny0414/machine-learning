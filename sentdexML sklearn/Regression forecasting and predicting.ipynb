{
 "cells": [
  {
   "cell_type": "code",
   "execution_count": 1,
   "metadata": {},
   "outputs": [],
   "source": [
    "import pandas as pd\n",
    "import math \n",
    "import numpy as np\n",
    "from sklearn import preprocessing, model_selection, svm \n",
    "from sklearn.linear_model import LinearRegression\n",
    "import datetime\n",
    "import matplotlib.pyplot as plt\n",
    "from matplotlib import style"
   ]
  },
  {
   "cell_type": "code",
   "execution_count": 16,
   "metadata": {},
   "outputs": [],
   "source": [
    "df = pd.read_csv('GOOGL.csv',\n",
    "                  header=0, \n",
    "                  index_col='Date',\n",
    "                  parse_dates=True)\n",
    "df = df[['Open','High','Low','Close','Volume',]]\n",
    "df['HL_PCT'] = (df['High']-df['Close'])/df['Close'] * 100\n",
    "df['PCT_change'] = (df['Close']-df['Open'])/df['Open'] * 100\n",
    "df = df[['Close','HL_PCT','PCT_change','Volume']]\n",
    "forecast_col = 'Close'\n",
    "df.fillna(-99999, inplace=True)\n",
    "forecast_out = int(math.ceil(0.1*len(df)))#0.01\n",
    "df['label'] = df[forecast_col].shift(-forecast_out)"
   ]
  },
  {
   "cell_type": "code",
   "execution_count": 17,
   "metadata": {},
   "outputs": [
    {
     "data": {
      "text/html": [
       "<div>\n",
       "<style scoped>\n",
       "    .dataframe tbody tr th:only-of-type {\n",
       "        vertical-align: middle;\n",
       "    }\n",
       "\n",
       "    .dataframe tbody tr th {\n",
       "        vertical-align: top;\n",
       "    }\n",
       "\n",
       "    .dataframe thead th {\n",
       "        text-align: right;\n",
       "    }\n",
       "</style>\n",
       "<table border=\"1\" class=\"dataframe\">\n",
       "  <thead>\n",
       "    <tr style=\"text-align: right;\">\n",
       "      <th></th>\n",
       "      <th>Close</th>\n",
       "      <th>HL_PCT</th>\n",
       "      <th>PCT_change</th>\n",
       "      <th>Volume</th>\n",
       "      <th>label</th>\n",
       "    </tr>\n",
       "    <tr>\n",
       "      <th>Date</th>\n",
       "      <th></th>\n",
       "      <th></th>\n",
       "      <th></th>\n",
       "      <th></th>\n",
       "      <th></th>\n",
       "    </tr>\n",
       "  </thead>\n",
       "  <tbody>\n",
       "    <tr>\n",
       "      <th>2009-05-22</th>\n",
       "      <td>196.946945</td>\n",
       "      <td>1.308767</td>\n",
       "      <td>-0.796656</td>\n",
       "      <td>3433700</td>\n",
       "      <td>264.859863</td>\n",
       "    </tr>\n",
       "    <tr>\n",
       "      <th>2009-05-26</th>\n",
       "      <td>202.382385</td>\n",
       "      <td>0.158271</td>\n",
       "      <td>3.166221</td>\n",
       "      <td>6202700</td>\n",
       "      <td>266.266266</td>\n",
       "    </tr>\n",
       "    <tr>\n",
       "      <th>2009-05-27</th>\n",
       "      <td>202.982986</td>\n",
       "      <td>1.553408</td>\n",
       "      <td>-0.019722</td>\n",
       "      <td>6062500</td>\n",
       "      <td>263.113098</td>\n",
       "    </tr>\n",
       "    <tr>\n",
       "      <th>2009-05-28</th>\n",
       "      <td>205.405411</td>\n",
       "      <td>0.297271</td>\n",
       "      <td>0.420872</td>\n",
       "      <td>5332200</td>\n",
       "      <td>265.565552</td>\n",
       "    </tr>\n",
       "    <tr>\n",
       "      <th>2009-05-29</th>\n",
       "      <td>208.823822</td>\n",
       "      <td>0.000000</td>\n",
       "      <td>1.242386</td>\n",
       "      <td>5291100</td>\n",
       "      <td>253.438446</td>\n",
       "    </tr>\n",
       "  </tbody>\n",
       "</table>\n",
       "</div>"
      ],
      "text/plain": [
       "                 Close    HL_PCT  PCT_change   Volume       label\n",
       "Date                                                             \n",
       "2009-05-22  196.946945  1.308767   -0.796656  3433700  264.859863\n",
       "2009-05-26  202.382385  0.158271    3.166221  6202700  266.266266\n",
       "2009-05-27  202.982986  1.553408   -0.019722  6062500  263.113098\n",
       "2009-05-28  205.405411  0.297271    0.420872  5332200  265.565552\n",
       "2009-05-29  208.823822  0.000000    1.242386  5291100  253.438446"
      ]
     },
     "execution_count": 17,
     "metadata": {},
     "output_type": "execute_result"
    }
   ],
   "source": [
    "df.head()"
   ]
  },
  {
   "cell_type": "code",
   "execution_count": 18,
   "metadata": {},
   "outputs": [],
   "source": [
    "X = np.array(df.drop(['label'],1))\n",
    "X = preprocessing.scale(X)\n",
    "X_lately = X[-forecast_out:]\n",
    "X = X[:-forecast_out]\n",
    "\n",
    "\n",
    "df.dropna(inplace=True)\n",
    "y = np.array(df['label'])\n",
    "\n",
    "X_train, X_test, y_train, y_test = model_selection.train_test_split(X, y, test_size=0.2)\n",
    "clf = LinearRegression(n_jobs = 0)\n",
    "clf.fit(X_train, y_train)\n",
    "accuracy = clf.score(X_test, y_test)"
   ]
  },
  {
   "cell_type": "code",
   "execution_count": 19,
   "metadata": {},
   "outputs": [],
   "source": [
    "import pickle"
   ]
  },
  {
   "cell_type": "code",
   "execution_count": 20,
   "metadata": {},
   "outputs": [],
   "source": [
    "with open('linearregression.pickle', 'wb') as f:\n",
    "    pickle.dump(clf, f)"
   ]
  },
  {
   "cell_type": "code",
   "execution_count": 21,
   "metadata": {},
   "outputs": [],
   "source": [
    "pickle_in = open('linearregression.pickle', 'rb')\n",
    "clf = pickle.load(pickle_in)"
   ]
  },
  {
   "cell_type": "code",
   "execution_count": 22,
   "metadata": {},
   "outputs": [
    {
     "name": "stdout",
     "output_type": "stream",
     "text": [
      "[1120.20365394 1141.10602467 1152.22897977 1160.22340357 1157.59491847\n",
      " 1162.78503937 1158.26740318 1174.01574078 1184.72646402 1186.9331777\n",
      " 1182.95723203 1197.31655283 1200.91135043 1204.8644441  1207.49696793\n",
      " 1209.08934432 1210.30936267 1196.39426539 1200.4863666  1180.28673603\n",
      " 1180.99804421 1183.64972309 1182.12024727 1218.61050882 1229.52909199\n",
      " 1233.49937519 1241.05751547 1245.45546373 1252.83119852 1248.35979438\n",
      " 1256.69207361 1263.22180303 1249.61151702 1248.77723442 1245.46266428\n",
      " 1244.9244201  1239.78348597 1251.52495335 1239.77027964 1238.27199408\n",
      " 1253.89956022 1258.88847363 1263.68671335 1276.23006729 1269.4652849\n",
      " 1236.16837867 1234.65745985 1223.41817944 1209.36395089 1214.60403027\n",
      " 1230.94514547 1245.63478582 1252.91261831 1257.10492663 1251.50212332\n",
      " 1255.72531662 1261.83753534 1271.06694772 1293.44197783 1289.79096318\n",
      " 1282.59452064 1279.63796321 1278.41669652 1274.9960219  1268.09472241\n",
      " 1263.60230453 1259.16044092 1277.40497387 1299.50166828 1308.40309414\n",
      " 1323.40958198 1329.73592937 1328.86841588 1325.75800186 1328.13612294\n",
      " 1343.65394057 1348.5467236  1358.41601952 1355.66378465 1362.62314513\n",
      " 1385.11839539 1399.29092251 1396.64296384 1408.8008021  1412.78368557\n",
      " 1414.04865773 1401.93829029 1408.03826155 1398.46807663 1317.68488829\n",
      " 1262.70997882 1276.50974556 1259.77975901 1204.22524389 1231.61959294\n",
      " 1253.72380491 1257.440497   1275.07487052 1299.4529784  1304.71632741\n",
      " 1314.279242   1325.58980921 1325.80428907 1345.02744975 1361.89264301\n",
      " 1334.01105608 1315.59647359 1279.08699021 1285.52521059 1304.04101075\n",
      " 1314.96412251 1326.64813697 1344.36360149 1378.28713125 1386.85889659\n",
      " 1361.10374376 1367.00261467 1371.10092561 1349.82119507 1307.9663823\n",
      " 1302.64495503 1302.02579173 1253.09279932 1225.76325994 1250.23460567\n",
      " 1205.26983141 1190.3564677  1226.11214523 1204.65483797 1211.78800284\n",
      " 1220.28305164 1234.00233236 1206.46058148 1217.79541581 1235.27091243\n",
      " 1224.41597268 1237.07134059 1239.7809269  1248.88382993 1280.19569024\n",
      " 1283.6903356  1294.86307216 1284.15644024 1274.61713724 1206.43473995\n",
      " 1216.97298261 1239.72745477 1231.67657867 1218.13335674 1237.67268014\n",
      " 1225.66074931 1223.51804563 1248.34357605 1262.88467476 1265.35624801\n",
      " 1292.05181937 1315.91683344 1315.79557946 1318.05471292 1295.14028992\n",
      " 1294.72991764 1291.25597352 1274.91973958 1293.84397614 1287.11665207\n",
      " 1294.89657974 1297.40972606 1295.60723161 1274.76796285 1285.49308357\n",
      " 1299.38621704 1343.44240935 1369.66130888 1372.29721171 1367.37488611\n",
      " 1353.01636806 1351.20677493 1360.4743132  1368.84872574 1364.64102763\n",
      " 1380.86609361 1379.14327562 1405.80005023 1400.1495156  1406.70926\n",
      " 1393.1737627  1393.29791411 1354.98926506 1351.40672352 1334.16573743\n",
      " 1341.89320567 1346.85750525 1359.50739591 1339.12713453 1358.87122363\n",
      " 1377.01140263 1392.26327686 1393.56885992 1393.62142328 1424.95509409\n",
      " 1434.4693747  1427.60093553 1439.23704493 1442.7889242  1428.28946866\n",
      " 1426.09647176 1433.48684968 1483.82215836 1511.9955564  1523.14635678\n",
      " 1493.07460707 1464.48295213 1460.72226177 1468.21007404 1474.49214109\n",
      " 1477.67697697 1476.50727401 1492.65941813 1500.73998965 1506.24272781\n",
      " 1493.39023417 1488.19636672 1498.11468022 1468.09115092 1460.26162814\n",
      " 1448.86759993 1457.31308763 1452.76270227 1456.25585404 1455.94364839\n",
      " 1473.01932872 1494.97537111 1485.8516238  1503.4144846 ] 0.9092790765121419 234\n"
     ]
    }
   ],
   "source": [
    "forecast_set = clf.predict(X_lately)\n",
    "print(forecast_set, accuracy, forecast_out)"
   ]
  },
  {
   "cell_type": "code",
   "execution_count": 23,
   "metadata": {},
   "outputs": [],
   "source": [
    "style.use('ggplot')"
   ]
  },
  {
   "cell_type": "code",
   "execution_count": 24,
   "metadata": {},
   "outputs": [],
   "source": [
    "df['Forecast'] = np.nan"
   ]
  },
  {
   "cell_type": "code",
   "execution_count": 25,
   "metadata": {},
   "outputs": [],
   "source": [
    "last_date = df.iloc[-1].name"
   ]
  },
  {
   "cell_type": "code",
   "execution_count": 26,
   "metadata": {},
   "outputs": [],
   "source": [
    "last_unix = last_date.timestamp()\n",
    "one_day = 86400\n",
    "next_unix = last_unix + one_day"
   ]
  },
  {
   "cell_type": "code",
   "execution_count": 27,
   "metadata": {},
   "outputs": [],
   "source": [
    "for i in forecast_set:\n",
    "    next_date = datetime.datetime.fromtimestamp(next_unix)\n",
    "    next_unix += one_day\n",
    "    df.loc[next_date] = [np.nan for _ in range(len(df.columns)-1)]+[i]"
   ]
  },
  {
   "cell_type": "code",
   "execution_count": 28,
   "metadata": {},
   "outputs": [
    {
     "data": {
      "text/html": [
       "<div>\n",
       "<style scoped>\n",
       "    .dataframe tbody tr th:only-of-type {\n",
       "        vertical-align: middle;\n",
       "    }\n",
       "\n",
       "    .dataframe tbody tr th {\n",
       "        vertical-align: top;\n",
       "    }\n",
       "\n",
       "    .dataframe thead th {\n",
       "        text-align: right;\n",
       "    }\n",
       "</style>\n",
       "<table border=\"1\" class=\"dataframe\">\n",
       "  <thead>\n",
       "    <tr style=\"text-align: right;\">\n",
       "      <th></th>\n",
       "      <th>Close</th>\n",
       "      <th>HL_PCT</th>\n",
       "      <th>PCT_change</th>\n",
       "      <th>Volume</th>\n",
       "      <th>label</th>\n",
       "      <th>Forecast</th>\n",
       "    </tr>\n",
       "    <tr>\n",
       "      <th>Date</th>\n",
       "      <th></th>\n",
       "      <th></th>\n",
       "      <th></th>\n",
       "      <th></th>\n",
       "      <th></th>\n",
       "      <th></th>\n",
       "    </tr>\n",
       "  </thead>\n",
       "  <tbody>\n",
       "    <tr>\n",
       "      <th>2018-05-13 08:00:00</th>\n",
       "      <td>NaN</td>\n",
       "      <td>NaN</td>\n",
       "      <td>NaN</td>\n",
       "      <td>NaN</td>\n",
       "      <td>NaN</td>\n",
       "      <td>1455.943648</td>\n",
       "    </tr>\n",
       "    <tr>\n",
       "      <th>2018-05-14 08:00:00</th>\n",
       "      <td>NaN</td>\n",
       "      <td>NaN</td>\n",
       "      <td>NaN</td>\n",
       "      <td>NaN</td>\n",
       "      <td>NaN</td>\n",
       "      <td>1473.019329</td>\n",
       "    </tr>\n",
       "    <tr>\n",
       "      <th>2018-05-15 08:00:00</th>\n",
       "      <td>NaN</td>\n",
       "      <td>NaN</td>\n",
       "      <td>NaN</td>\n",
       "      <td>NaN</td>\n",
       "      <td>NaN</td>\n",
       "      <td>1494.975371</td>\n",
       "    </tr>\n",
       "    <tr>\n",
       "      <th>2018-05-16 08:00:00</th>\n",
       "      <td>NaN</td>\n",
       "      <td>NaN</td>\n",
       "      <td>NaN</td>\n",
       "      <td>NaN</td>\n",
       "      <td>NaN</td>\n",
       "      <td>1485.851624</td>\n",
       "    </tr>\n",
       "    <tr>\n",
       "      <th>2018-05-17 08:00:00</th>\n",
       "      <td>NaN</td>\n",
       "      <td>NaN</td>\n",
       "      <td>NaN</td>\n",
       "      <td>NaN</td>\n",
       "      <td>NaN</td>\n",
       "      <td>1503.414485</td>\n",
       "    </tr>\n",
       "  </tbody>\n",
       "</table>\n",
       "</div>"
      ],
      "text/plain": [
       "                     Close  HL_PCT  PCT_change  Volume  label     Forecast\n",
       "Date                                                                      \n",
       "2018-05-13 08:00:00    NaN     NaN         NaN     NaN    NaN  1455.943648\n",
       "2018-05-14 08:00:00    NaN     NaN         NaN     NaN    NaN  1473.019329\n",
       "2018-05-15 08:00:00    NaN     NaN         NaN     NaN    NaN  1494.975371\n",
       "2018-05-16 08:00:00    NaN     NaN         NaN     NaN    NaN  1485.851624\n",
       "2018-05-17 08:00:00    NaN     NaN         NaN     NaN    NaN  1503.414485"
      ]
     },
     "execution_count": 28,
     "metadata": {},
     "output_type": "execute_result"
    }
   ],
   "source": [
    "df.tail()"
   ]
  },
  {
   "cell_type": "code",
   "execution_count": 29,
   "metadata": {},
   "outputs": [
    {
     "data": {
      "image/png": "[encoded data removed]",
      "text/plain": [
       "<Figure size 432x288 with 1 Axes>"
      ]
     },
     "metadata": {},
     "output_type": "display_data"
    }
   ],
   "source": [
    "df['Close'].plot()\n",
    "df['Forecast'].plot()\n",
    "plt.legend(loc=4)\n",
    "plt.xlabel('Data')\n",
    "plt.ylabel('Price')\n",
    "plt.show()"
   ]
  }
 ],
 "metadata": {
  "kernelspec": {
   "display_name": "Python 3",
   "language": "python",
   "name": "python3"
  },
  "language_info": {
   "codemirror_mode": {
    "name": "ipython",
    "version": 3
   },
   "file_extension": ".py",
   "mimetype": "text/x-python",
   "name": "python",
   "nbconvert_exporter": "python",
   "pygments_lexer": "ipython3",
   "version": "3.6.6"
  }
 },
 "nbformat": 4,
 "nbformat_minor": 2
}
