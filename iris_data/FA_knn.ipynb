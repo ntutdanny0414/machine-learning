{
 "cells": [
  {
   "cell_type": "code",
   "execution_count": 1,
   "metadata": {},
   "outputs": [],
   "source": [
    "#載入資料\n",
    "import pandas as pd  \n",
    "import numpy as np  \n",
    "df = pd.read_csv('iris.csv')"
   ]
  },
  {
   "cell_type": "code",
   "execution_count": 2,
   "metadata": {},
   "outputs": [],
   "source": [
    "from sklearn.model_selection import train_test_split\n",
    "#from sklearn.neighbors import KNeighborsClassifier"
   ]
  },
  {
   "cell_type": "code",
   "execution_count": 3,
   "metadata": {},
   "outputs": [],
   "source": [
    "#split data and train\n",
    "X = df.iloc[:,:4]\n",
    "y = df['species'].replace({'setosa':0,'versicolor':1,'virginica':2}).copy().values"
   ]
  },
  {
   "cell_type": "code",
   "execution_count": 4,
   "metadata": {},
   "outputs": [],
   "source": [
    "#Accuracy\n",
    "def Accuracy(y_pred,y_test):\n",
    "    count = 0\n",
    "    for i in range(len(y_pred)):\n",
    "        if y_pred[i] == y_test[i]:\n",
    "            count = count + 1\n",
    "    return count / len(y_pred)"
   ]
  },
  {
   "cell_type": "code",
   "execution_count": 5,
   "metadata": {},
   "outputs": [],
   "source": [
    "#fa\n",
    "from numpy.linalg import eig,inv\n",
    "def to_fa_3(X_train, X_test):\n",
    "    k0 = 1\n",
    "    x_mean = X_train.mean().values\n",
    "    C = X_train - x_mean\n",
    "    C_covariance = C.cov().values\n",
    "    eigenvalues, eigenvectors = eig(C_covariance)\n",
    "    w_vector = []\n",
    "    for i in range(len(eigenvalues)):\n",
    "        w_vector.append(np.sqrt(eigenvalues)[i] * eigenvectors[i])\n",
    "    w_vector = np.asarray(w_vector)\n",
    "    Vt_V = w_vector.T.dot(w_vector)\n",
    "    V_final = inv(Vt_V).dot(w_vector.T)\n",
    "    \n",
    "    C_test = X_test - x_mean\n",
    "    return V_final.dot(C.T).T[:,:3],V_final.dot(C_test.T).T[:,:3]"
   ]
  },
  {
   "cell_type": "code",
   "execution_count": 6,
   "metadata": {},
   "outputs": [],
   "source": [
    "#5-nn手寫算法\n",
    "def knn_5(X_train,X_test,y_train):\n",
    "    pre = []\n",
    "    for i in X_test:\n",
    "        dist = []\n",
    "        for j in range(len(X_train)):\n",
    "            dist.append((np.linalg.norm(i-X_train[j]),y_train[j]))\n",
    "        sort_dist = sorted(dist, key=lambda x:x[0])\n",
    "        vote = []\n",
    "        for i in sort_dist[:5]:\n",
    "            vote.append(i[1])\n",
    "        pre.append(max(vote,key=vote.count))\n",
    "    return pre"
   ]
  },
  {
   "cell_type": "code",
   "execution_count": 10,
   "metadata": {},
   "outputs": [
    {
     "name": "stdout",
     "output_type": "stream",
     "text": [
      "Each accuracy with FA: [0.9555555555555556, 0.9555555555555556, 0.9777777777777777, 0.9555555555555556, 0.9555555555555556, 0.9777777777777777, 0.9333333333333333, 0.9555555555555556, 0.9333333333333333, 0.9777777777777777]\n",
      "Average accuracy with FA: 0.9577777777777777\n"
     ]
    }
   ],
   "source": [
    "#train\n",
    "Accuracy_list_Fa = []\n",
    "for i in range(10):\n",
    "    X_train, X_test, y_train, y_test = train_test_split(X, y, test_size = 0.30)#random split\n",
    "    #FA\n",
    "    Fa_X_train,Fa_X_test = to_fa_3(X_train, X_test)\n",
    "# 下3行套件測試用，因手寫算法執行時間有些久\n",
    "#    KNNclassifier_Fa = KNeighborsClassifier(n_neighbors=5,p = 2)#p=2 Euclidean\n",
    "#    KNNclassifier_Fa.fit(Fa_X_train, y_train)\n",
    "#    Fa_y_pred = KNNclassifier_Fa.predict(Fa_X_test)\n",
    "    #手寫算法\n",
    "    Fa_y_pred = knn_5(Fa_X_train,Fa_X_test,y_train)\n",
    "    Accuracy_list_Fa.append(Accuracy(Fa_y_pred,y_test))\n",
    "\n",
    "print ('Each accuracy with FA:', Accuracy_list_Fa)\n",
    "print ('Average accuracy with FA:', sum(Accuracy_list_Fa) / 10)"
   ]
  }
 ],
 "metadata": {
  "kernelspec": {
   "display_name": "tensorflow",
   "language": "python",
   "name": "tf"
  },
  "language_info": {
   "codemirror_mode": {
    "name": "ipython",
    "version": 3
   },
   "file_extension": ".py",
   "mimetype": "text/x-python",
   "name": "python",
   "nbconvert_exporter": "python",
   "pygments_lexer": "ipython3",
   "version": "3.5.5"
  }
 },
 "nbformat": 4,
 "nbformat_minor": 2
}
