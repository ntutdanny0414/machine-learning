{
 "cells": [
  {
   "cell_type": "code",
   "execution_count": 1,
   "metadata": {},
   "outputs": [],
   "source": [
    "#載入資料\n",
    "import pandas as pd  \n",
    "import numpy as np  \n",
    "import math\n",
    "df = pd.read_csv('iris.csv')"
   ]
  },
  {
   "cell_type": "code",
   "execution_count": 2,
   "metadata": {},
   "outputs": [],
   "source": [
    "#split data and train\n",
    "X = df.iloc[:,:4].values\n",
    "y = df['species'].replace({'setosa':0,'versicolor':1,'virginica':2}).copy().values"
   ]
  },
  {
   "cell_type": "code",
   "execution_count": 3,
   "metadata": {},
   "outputs": [],
   "source": [
    "def closest_node(data, t, map, m_rows, m_cols):\n",
    "    result = (0,0)\n",
    "    small_dist = 1.0e20\n",
    "    for i in range(m_rows):\n",
    "        for j in range(m_cols):\n",
    "            ed = euc_dist(map[i][j], data[t])\n",
    "            if ed < small_dist:\n",
    "                small_dist = ed\n",
    "                result = (i, j)\n",
    "    return result\n",
    "def euc_dist(v1, v2):\n",
    "    return np.linalg.norm(v1 - v2) \n",
    "def manhattan_dist(r1, c1, r2, c2):\n",
    "    return np.abs(r1-r2) + np.abs(c1-c2)\n",
    "def r_rate_count(r1, c1, r2, c2):\n",
    "    return (r1-r2) * (r1-r2) + (c1-c2) * (c1-c2)\n",
    "def most_common(lst, n):\n",
    "    if len(lst) == 0: return -1\n",
    "    counts = np.zeros(shape=n, dtype=np.int)\n",
    "    for i in range(len(lst)):\n",
    "        counts[lst[i]] += 1\n",
    "    return np.argmax(counts)"
   ]
  },
  {
   "cell_type": "code",
   "execution_count": 4,
   "metadata": {},
   "outputs": [],
   "source": [
    "np.random.seed(1)\n",
    "Dim = 4\n",
    "Rows = 39; Cols = 39\n",
    "RangeMax = Rows + Cols\n",
    "LearnMax = 0.1\n",
    "phi = 11.3\n",
    "StepsMax = 5000\n",
    "lambda_n = StepsMax / ((Rows / 2) * math.sqrt(2))"
   ]
  },
  {
   "cell_type": "code",
   "execution_count": 5,
   "metadata": {},
   "outputs": [],
   "source": [
    "map = np.random.random_sample(size=(Rows,Cols,Dim))\n",
    "for s in range(StepsMax):\n",
    "    pct_left = 1.0 - ((s * 1.0) / StepsMax)\n",
    "    curr_range = (int)(pct_left * RangeMax)\n",
    "    curr_rate = LearnMax * math.exp((-1*s) / lambda_n )\n",
    "    phi_rate = phi * math.exp((-1*s) / lambda_n )\n",
    "    t = np.random.randint(len(X))\n",
    "    (bmu_row, bmu_col) = closest_node(X, t, map, Rows, Cols)\n",
    "    for i in range(Rows):\n",
    "        for j in range(Cols):\n",
    "            r_rate =  math.exp(-1 * (r_rate_count(i, j, bmu_row, bmu_col)/(2 * phi_rate * phi_rate)))\n",
    "            if manhattan_dist(bmu_row, bmu_col, i, j) < curr_range:\n",
    "                map[i][j] = map[i][j] + r_rate * curr_rate * (X[t] - map[i][j])"
   ]
  },
  {
   "cell_type": "code",
   "execution_count": 7,
   "metadata": {},
   "outputs": [
    {
     "data": {
      "text/plain": [
       "<matplotlib.image.AxesImage at 0x1928f1a0ac8>"
      ]
     },
     "execution_count": 7,
     "metadata": {},
     "output_type": "execute_result"
    },
    {
     "data": {
      "image/png": "[encoded data removed]",
      "text/plain": [
       "<Figure size 432x288 with 1 Axes>"
      ]
     },
     "metadata": {},
     "output_type": "display_data"
    }
   ],
   "source": [
    "import matplotlib.pyplot as plt\n",
    "# U-Matrix\n",
    "u_matrix = np.zeros(shape=(Rows,Cols), dtype=np.float64)\n",
    "for i in range(Rows):\n",
    "    for j in range(Cols):\n",
    "        v = map[i][j]\n",
    "        sum_dists = 0.0; ct = 0\n",
    "        if i-1 >= 0:    # above\n",
    "            sum_dists += euc_dist(v, map[i-1][j]); ct += 1\n",
    "        if i+1 <= Rows-1:   # below\n",
    "            sum_dists += euc_dist(v, map[i+1][j]); ct += 1\n",
    "        if j-1 >= 0:   # left\n",
    "            sum_dists += euc_dist(v, map[i][j-1]); ct += 1\n",
    "        if j+1 <= Cols-1:   # right\n",
    "            sum_dists += euc_dist(v, map[i][j+1]); ct += 1\n",
    "        u_matrix[i][j] = sum_dists / ct\n",
    "plt.imshow(u_matrix, cmap='gray')  # black = close = clusters"
   ]
  },
  {
   "cell_type": "code",
   "execution_count": 8,
   "metadata": {},
   "outputs": [
    {
     "data": {
      "image/png": "[encoded data removed]",
      "text/plain": [
       "<Figure size 432x288 with 2 Axes>"
      ]
     },
     "metadata": {},
     "output_type": "display_data"
    }
   ],
   "source": [
    "mapping = np.empty(shape=(Rows,Cols), dtype=object)\n",
    "for i in range(Rows):\n",
    "    for j in range(Cols):\n",
    "        mapping[i][j] = []\n",
    "for t in range(len(X)):\n",
    "    (m_row, m_col) = closest_node(X, t, map, Rows, Cols)\n",
    "    mapping[m_row][m_col].append(y[t])\n",
    "label_map = np.zeros(shape=(Rows,Cols), dtype=np.int)\n",
    "for i in range(Rows):\n",
    "    for j in range(Cols):\n",
    "        label_map[i][j] = most_common(mapping[i][j], 3)\n",
    "plt.imshow(label_map, cmap=plt.cm.get_cmap('terrain_r', 4))\n",
    "plt.colorbar()\n",
    "plt.show()"
   ]
  }
 ],
 "metadata": {
  "kernelspec": {
   "display_name": "Python 3",
   "language": "python",
   "name": "python3"
  },
  "language_info": {
   "codemirror_mode": {
    "name": "ipython",
    "version": 3
   },
   "file_extension": ".py",
   "mimetype": "text/x-python",
   "name": "python",
   "nbconvert_exporter": "python",
   "pygments_lexer": "ipython3",
   "version": "3.5.5"
  }
 },
 "nbformat": 4,
 "nbformat_minor": 2
}
